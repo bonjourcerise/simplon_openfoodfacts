{
 "cells": [
  {
   "cell_type": "markdown",
   "id": "3989d75e",
   "metadata": {},
   "source": [
    "# 🍊 Orange is the new black"
   ]
  },
  {
   "cell_type": "markdown",
   "id": "f72e0a8e",
   "metadata": {},
   "source": [
    "* [Visualisation Plotly](#📉-Visualisation-Plotly)\n",
    "    * [Répartition des jus d'orange par Nutriscore](#Répartition-des-jus-d'orange-par-Nutriscore)\n",
    "    * [Ratio sucre / kcal](#Ratio-sucre-/-kilocalorie)\n",
    "    * [Taux de sucre pour 100 gr](#Taux-de-sucre-pour-100gr)\n",
    "* [Exploration](#🔍-Exploration)\n",
    "    * [Marques les plus représentées](#Marques-les-plus-représentées)\n",
    "    * [Les jus d'orange sans sucre ajouté, colorants et conservateurs](#Les-jus-d'orange-sans-sucre-ajouté,-sans-colorants,-sans-conservateurs)\n",
    "    * [Jus d'orange avec nutriscore A](#Les-jus-d'orange-avec-Nutriscore-A)\n",
    "    * [Jus d'orange avec le plus de vitamine C](#Les-jus-d'orange-contenant-le-plus-de-vitamine-C)"
   ]
  },
  {
   "cell_type": "markdown",
   "id": "c9113c13",
   "metadata": {},
   "source": [
    "Import des librairies"
   ]
  },
  {
   "cell_type": "code",
   "execution_count": 21,
   "id": "f3faa230",
   "metadata": {},
   "outputs": [],
   "source": [
    "import numpy as np\n",
    "import pandas as pd\n",
    "\n",
    "import matplotlib.pyplot as plt\n",
    "import seaborn as sns\n",
    "import plotly.graph_objects as go\n",
    "import plotly.express as px\n",
    "\n",
    "from sklearn.preprocessing import MinMaxScaler\n",
    "\n",
    "import warnings\n",
    "warnings.filterwarnings(\"ignore\")"
   ]
  },
  {
   "cell_type": "markdown",
   "id": "26ed731c",
   "metadata": {},
   "source": [
    "# 📉 Visualisation Plotly"
   ]
  },
  {
   "cell_type": "code",
   "execution_count": 51,
   "id": "090f7ae9",
   "metadata": {},
   "outputs": [],
   "source": [
    "# import csv file from cleaning notebook\n",
    "df = pd.read_csv(\"data/orangeisthenewblack.csv\")"
   ]
  },
  {
   "cell_type": "code",
   "execution_count": 52,
   "id": "e802afb3",
   "metadata": {},
   "outputs": [],
   "source": [
    "# convert NaN to 0\n",
    "df = df.fillna(0)"
   ]
  },
  {
   "cell_type": "code",
   "execution_count": 53,
   "id": "22a8ad2b",
   "metadata": {},
   "outputs": [
    {
     "data": {
      "text/html": [
       "<div>\n",
       "<style scoped>\n",
       "    .dataframe tbody tr th:only-of-type {\n",
       "        vertical-align: middle;\n",
       "    }\n",
       "\n",
       "    .dataframe tbody tr th {\n",
       "        vertical-align: top;\n",
       "    }\n",
       "\n",
       "    .dataframe thead th {\n",
       "        text-align: right;\n",
       "    }\n",
       "</style>\n",
       "<table border=\"1\" class=\"dataframe\">\n",
       "  <thead>\n",
       "    <tr style=\"text-align: right;\">\n",
       "      <th></th>\n",
       "      <th>product_name</th>\n",
       "      <th>brands</th>\n",
       "      <th>countries</th>\n",
       "      <th>nutriscore_score</th>\n",
       "      <th>nutriscore_grade</th>\n",
       "      <th>pnns_groups_1</th>\n",
       "      <th>pnns_groups_2</th>\n",
       "      <th>energy-kcal_100g</th>\n",
       "      <th>energy_100g</th>\n",
       "      <th>fat_100g</th>\n",
       "      <th>saturated-fat_100g</th>\n",
       "      <th>carbohydrates_100g</th>\n",
       "      <th>sugars_100g</th>\n",
       "      <th>proteins_100g</th>\n",
       "      <th>salt_100g</th>\n",
       "      <th>sodium_100g</th>\n",
       "      <th>nutrition-score-fr_100g</th>\n",
       "    </tr>\n",
       "  </thead>\n",
       "  <tbody>\n",
       "    <tr>\n",
       "      <th>0</th>\n",
       "      <td>Pago Ace - Orange - Carotte - Citron</td>\n",
       "      <td>pago</td>\n",
       "      <td>France</td>\n",
       "      <td>3.0</td>\n",
       "      <td>c</td>\n",
       "      <td>Beverages</td>\n",
       "      <td>Sweetened beverages</td>\n",
       "      <td>40.0</td>\n",
       "      <td>168.0</td>\n",
       "      <td>0.5</td>\n",
       "      <td>0.1</td>\n",
       "      <td>9.2</td>\n",
       "      <td>9.2</td>\n",
       "      <td>0.5</td>\n",
       "      <td>0.0000</td>\n",
       "      <td>0.000</td>\n",
       "      <td>3.0</td>\n",
       "    </tr>\n",
       "    <tr>\n",
       "      <th>1</th>\n",
       "      <td>LE PUR JUS Orange sans pulpe</td>\n",
       "      <td>Joker</td>\n",
       "      <td>France</td>\n",
       "      <td>3.0</td>\n",
       "      <td>c</td>\n",
       "      <td>Beverages</td>\n",
       "      <td>Fruit juices</td>\n",
       "      <td>42.0</td>\n",
       "      <td>186.0</td>\n",
       "      <td>0.0</td>\n",
       "      <td>0.0</td>\n",
       "      <td>8.6</td>\n",
       "      <td>8.6</td>\n",
       "      <td>0.6</td>\n",
       "      <td>0.0125</td>\n",
       "      <td>0.005</td>\n",
       "      <td>3.0</td>\n",
       "    </tr>\n",
       "    <tr>\n",
       "      <th>2</th>\n",
       "      <td>Jus d'orange sans pulpe</td>\n",
       "      <td>innocent</td>\n",
       "      <td>France</td>\n",
       "      <td>2.0</td>\n",
       "      <td>c</td>\n",
       "      <td>Beverages</td>\n",
       "      <td>Fruit juices</td>\n",
       "      <td>36.0</td>\n",
       "      <td>155.0</td>\n",
       "      <td>0.0</td>\n",
       "      <td>0.0</td>\n",
       "      <td>7.8</td>\n",
       "      <td>7.8</td>\n",
       "      <td>0.7</td>\n",
       "      <td>0.0000</td>\n",
       "      <td>0.000</td>\n",
       "      <td>2.0</td>\n",
       "    </tr>\n",
       "    <tr>\n",
       "      <th>3</th>\n",
       "      <td>Innocent jus d'orange avec pulpe 900ml</td>\n",
       "      <td>Innocent</td>\n",
       "      <td>France</td>\n",
       "      <td>2.0</td>\n",
       "      <td>c</td>\n",
       "      <td>Beverages</td>\n",
       "      <td>Fruit juices</td>\n",
       "      <td>36.0</td>\n",
       "      <td>156.0</td>\n",
       "      <td>0.0</td>\n",
       "      <td>0.0</td>\n",
       "      <td>7.8</td>\n",
       "      <td>7.8</td>\n",
       "      <td>0.7</td>\n",
       "      <td>0.0000</td>\n",
       "      <td>0.000</td>\n",
       "      <td>2.0</td>\n",
       "    </tr>\n",
       "    <tr>\n",
       "      <th>4</th>\n",
       "      <td>LE PUR JUS Orange sans pulpe</td>\n",
       "      <td>joker</td>\n",
       "      <td>France</td>\n",
       "      <td>2.0</td>\n",
       "      <td>c</td>\n",
       "      <td>Beverages</td>\n",
       "      <td>Fruit juices</td>\n",
       "      <td>42.0</td>\n",
       "      <td>176.0</td>\n",
       "      <td>0.0</td>\n",
       "      <td>0.0</td>\n",
       "      <td>8.6</td>\n",
       "      <td>8.6</td>\n",
       "      <td>0.6</td>\n",
       "      <td>0.0125</td>\n",
       "      <td>0.005</td>\n",
       "      <td>2.0</td>\n",
       "    </tr>\n",
       "  </tbody>\n",
       "</table>\n",
       "</div>"
      ],
      "text/plain": [
       "                             product_name    brands countries  \\\n",
       "0    Pago Ace - Orange - Carotte - Citron      pago    France   \n",
       "1            LE PUR JUS Orange sans pulpe     Joker    France   \n",
       "2                 Jus d'orange sans pulpe  innocent    France   \n",
       "3  Innocent jus d'orange avec pulpe 900ml  Innocent    France   \n",
       "4            LE PUR JUS Orange sans pulpe     joker    France   \n",
       "\n",
       "   nutriscore_score nutriscore_grade pnns_groups_1        pnns_groups_2  \\\n",
       "0               3.0                c     Beverages  Sweetened beverages   \n",
       "1               3.0                c     Beverages         Fruit juices   \n",
       "2               2.0                c     Beverages         Fruit juices   \n",
       "3               2.0                c     Beverages         Fruit juices   \n",
       "4               2.0                c     Beverages         Fruit juices   \n",
       "\n",
       "   energy-kcal_100g  energy_100g  fat_100g  saturated-fat_100g  \\\n",
       "0              40.0        168.0       0.5                 0.1   \n",
       "1              42.0        186.0       0.0                 0.0   \n",
       "2              36.0        155.0       0.0                 0.0   \n",
       "3              36.0        156.0       0.0                 0.0   \n",
       "4              42.0        176.0       0.0                 0.0   \n",
       "\n",
       "   carbohydrates_100g  sugars_100g  proteins_100g  salt_100g  sodium_100g  \\\n",
       "0                 9.2          9.2            0.5     0.0000        0.000   \n",
       "1                 8.6          8.6            0.6     0.0125        0.005   \n",
       "2                 7.8          7.8            0.7     0.0000        0.000   \n",
       "3                 7.8          7.8            0.7     0.0000        0.000   \n",
       "4                 8.6          8.6            0.6     0.0125        0.005   \n",
       "\n",
       "   nutrition-score-fr_100g  \n",
       "0                      3.0  \n",
       "1                      3.0  \n",
       "2                      2.0  \n",
       "3                      2.0  \n",
       "4                      2.0  "
      ]
     },
     "execution_count": 53,
     "metadata": {},
     "output_type": "execute_result"
    }
   ],
   "source": [
    "df.head()"
   ]
  },
  {
   "cell_type": "markdown",
   "id": "86a4098d",
   "metadata": {},
   "source": [
    "# <b>Répartition des jus d'orange par Nutriscore</b>"
   ]
  },
  {
   "cell_type": "code",
   "execution_count": 25,
   "id": "3a0d4e37",
   "metadata": {},
   "outputs": [],
   "source": [
    "# delete product with nutriscore = 0\n",
    "df_nutriscore = df[df.nutriscore_grade != 0]"
   ]
  },
  {
   "cell_type": "code",
   "execution_count": 26,
   "id": "1baae05b",
   "metadata": {},
   "outputs": [
    {
     "data": {
      "text/plain": [
       "c    287\n",
       "b     37\n",
       "e     18\n",
       "d     13\n",
       "a      2\n",
       "Name: nutriscore_grade, dtype: int64"
      ]
     },
     "execution_count": 26,
     "metadata": {},
     "output_type": "execute_result"
    }
   ],
   "source": [
    "df_nutriscore.nutriscore_grade.value_counts()"
   ]
  },
  {
   "cell_type": "code",
   "execution_count": 27,
   "id": "110f7a9a",
   "metadata": {
    "scrolled": false
   },
   "outputs": [
    {
     "data": {
      "application/vnd.plotly.v1+json": {
       "config": {
        "plotlyServerURL": "https://plot.ly"
       },
       "data": [
        {
         "alignmentgroup": "True",
         "hovertemplate": "Nutriscore=%{x}<br>Nombre de produits=%{y}<extra></extra>",
         "legendgroup": "a",
         "marker": {
          "color": "#636efa",
          "pattern": {
           "shape": ""
          }
         },
         "name": "a",
         "offsetgroup": "a",
         "orientation": "v",
         "showlegend": true,
         "textposition": "auto",
         "type": "bar",
         "x": [
          "a",
          "a"
         ],
         "xaxis": "x",
         "y": [
          1,
          1
         ],
         "yaxis": "y"
        },
        {
         "alignmentgroup": "True",
         "hovertemplate": "Nutriscore=%{x}<br>Nombre de produits=%{y}<extra></extra>",
         "legendgroup": "b",
         "marker": {
          "color": "#EF553B",
          "pattern": {
           "shape": ""
          }
         },
         "name": "b",
         "offsetgroup": "b",
         "orientation": "v",
         "showlegend": true,
         "textposition": "auto",
         "type": "bar",
         "x": [
          "b",
          "b",
          "b",
          "b",
          "b",
          "b",
          "b",
          "b",
          "b",
          "b",
          "b",
          "b",
          "b",
          "b",
          "b",
          "b",
          "b",
          "b",
          "b",
          "b",
          "b",
          "b",
          "b",
          "b",
          "b",
          "b",
          "b",
          "b",
          "b",
          "b",
          "b",
          "b",
          "b",
          "b",
          "b",
          "b",
          "b"
         ],
         "xaxis": "x",
         "y": [
          1,
          1,
          1,
          1,
          1,
          1,
          1,
          1,
          1,
          1,
          1,
          1,
          1,
          1,
          1,
          1,
          1,
          1,
          1,
          1,
          1,
          1,
          1,
          1,
          1,
          1,
          1,
          1,
          1,
          1,
          1,
          1,
          1,
          1,
          1,
          1,
          1
         ],
         "yaxis": "y"
        },
        {
         "alignmentgroup": "True",
         "hovertemplate": "Nutriscore=%{x}<br>Nombre de produits=%{y}<extra></extra>",
         "legendgroup": "c",
         "marker": {
          "color": "#00cc96",
          "pattern": {
           "shape": ""
          }
         },
         "name": "c",
         "offsetgroup": "c",
         "orientation": "v",
         "showlegend": true,
         "textposition": "auto",
         "type": "bar",
         "x": [
          "c",
          "c",
          "c",
          "c",
          "c",
          "c",
          "c",
          "c",
          "c",
          "c",
          "c",
          "c",
          "c",
          "c",
          "c",
          "c",
          "c",
          "c",
          "c",
          "c",
          "c",
          "c",
          "c",
          "c",
          "c",
          "c",
          "c",
          "c",
          "c",
          "c",
          "c",
          "c",
          "c",
          "c",
          "c",
          "c",
          "c",
          "c",
          "c",
          "c",
          "c",
          "c",
          "c",
          "c",
          "c",
          "c",
          "c",
          "c",
          "c",
          "c",
          "c",
          "c",
          "c",
          "c",
          "c",
          "c",
          "c",
          "c",
          "c",
          "c",
          "c",
          "c",
          "c",
          "c",
          "c",
          "c",
          "c",
          "c",
          "c",
          "c",
          "c",
          "c",
          "c",
          "c",
          "c",
          "c",
          "c",
          "c",
          "c",
          "c",
          "c",
          "c",
          "c",
          "c",
          "c",
          "c",
          "c",
          "c",
          "c",
          "c",
          "c",
          "c",
          "c",
          "c",
          "c",
          "c",
          "c",
          "c",
          "c",
          "c",
          "c",
          "c",
          "c",
          "c",
          "c",
          "c",
          "c",
          "c",
          "c",
          "c",
          "c",
          "c",
          "c",
          "c",
          "c",
          "c",
          "c",
          "c",
          "c",
          "c",
          "c",
          "c",
          "c",
          "c",
          "c",
          "c",
          "c",
          "c",
          "c",
          "c",
          "c",
          "c",
          "c",
          "c",
          "c",
          "c",
          "c",
          "c",
          "c",
          "c",
          "c",
          "c",
          "c",
          "c",
          "c",
          "c",
          "c",
          "c",
          "c",
          "c",
          "c",
          "c",
          "c",
          "c",
          "c",
          "c",
          "c",
          "c",
          "c",
          "c",
          "c",
          "c",
          "c",
          "c",
          "c",
          "c",
          "c",
          "c",
          "c",
          "c",
          "c",
          "c",
          "c",
          "c",
          "c",
          "c",
          "c",
          "c",
          "c",
          "c",
          "c",
          "c",
          "c",
          "c",
          "c",
          "c",
          "c",
          "c",
          "c",
          "c",
          "c",
          "c",
          "c",
          "c",
          "c",
          "c",
          "c",
          "c",
          "c",
          "c",
          "c",
          "c",
          "c",
          "c",
          "c",
          "c",
          "c",
          "c",
          "c",
          "c",
          "c",
          "c",
          "c",
          "c",
          "c",
          "c",
          "c",
          "c",
          "c",
          "c",
          "c",
          "c",
          "c",
          "c",
          "c",
          "c",
          "c",
          "c",
          "c",
          "c",
          "c",
          "c",
          "c",
          "c",
          "c",
          "c",
          "c",
          "c",
          "c",
          "c",
          "c",
          "c",
          "c",
          "c",
          "c",
          "c",
          "c",
          "c",
          "c",
          "c",
          "c",
          "c",
          "c",
          "c",
          "c",
          "c",
          "c",
          "c",
          "c",
          "c",
          "c",
          "c",
          "c",
          "c",
          "c",
          "c",
          "c",
          "c",
          "c",
          "c",
          "c",
          "c",
          "c",
          "c",
          "c",
          "c",
          "c",
          "c",
          "c",
          "c",
          "c",
          "c",
          "c",
          "c",
          "c",
          "c",
          "c"
         ],
         "xaxis": "x",
         "y": [
          1,
          1,
          1,
          1,
          1,
          1,
          1,
          1,
          1,
          1,
          1,
          1,
          1,
          1,
          1,
          1,
          1,
          1,
          1,
          1,
          1,
          1,
          1,
          1,
          1,
          1,
          1,
          1,
          1,
          1,
          1,
          1,
          1,
          1,
          1,
          1,
          1,
          1,
          1,
          1,
          1,
          1,
          1,
          1,
          1,
          1,
          1,
          1,
          1,
          1,
          1,
          1,
          1,
          1,
          1,
          1,
          1,
          1,
          1,
          1,
          1,
          1,
          1,
          1,
          1,
          1,
          1,
          1,
          1,
          1,
          1,
          1,
          1,
          1,
          1,
          1,
          1,
          1,
          1,
          1,
          1,
          1,
          1,
          1,
          1,
          1,
          1,
          1,
          1,
          1,
          1,
          1,
          1,
          1,
          1,
          1,
          1,
          1,
          1,
          1,
          1,
          1,
          1,
          1,
          1,
          1,
          1,
          1,
          1,
          1,
          1,
          1,
          1,
          1,
          1,
          1,
          1,
          1,
          1,
          1,
          1,
          1,
          1,
          1,
          1,
          1,
          1,
          1,
          1,
          1,
          1,
          1,
          1,
          1,
          1,
          1,
          1,
          1,
          1,
          1,
          1,
          1,
          1,
          1,
          1,
          1,
          1,
          1,
          1,
          1,
          1,
          1,
          1,
          1,
          1,
          1,
          1,
          1,
          1,
          1,
          1,
          1,
          1,
          1,
          1,
          1,
          1,
          1,
          1,
          1,
          1,
          1,
          1,
          1,
          1,
          1,
          1,
          1,
          1,
          1,
          1,
          1,
          1,
          1,
          1,
          1,
          1,
          1,
          1,
          1,
          1,
          1,
          1,
          1,
          1,
          1,
          1,
          1,
          1,
          1,
          1,
          1,
          1,
          1,
          1,
          1,
          1,
          1,
          1,
          1,
          1,
          1,
          1,
          1,
          1,
          1,
          1,
          1,
          1,
          1,
          1,
          1,
          1,
          1,
          1,
          1,
          1,
          1,
          1,
          1,
          1,
          1,
          1,
          1,
          1,
          1,
          1,
          1,
          1,
          1,
          1,
          1,
          1,
          1,
          1,
          1,
          1,
          1,
          1,
          1,
          1,
          1,
          1,
          1,
          1,
          1,
          1,
          1,
          1,
          1,
          1,
          1,
          1,
          1,
          1,
          1,
          1,
          1,
          1,
          1,
          1,
          1,
          1,
          1,
          1,
          1,
          1,
          1,
          1,
          1,
          1,
          1,
          1,
          1,
          1,
          1,
          1
         ],
         "yaxis": "y"
        },
        {
         "alignmentgroup": "True",
         "hovertemplate": "Nutriscore=%{x}<br>Nombre de produits=%{y}<extra></extra>",
         "legendgroup": "d",
         "marker": {
          "color": "#ab63fa",
          "pattern": {
           "shape": ""
          }
         },
         "name": "d",
         "offsetgroup": "d",
         "orientation": "v",
         "showlegend": true,
         "textposition": "auto",
         "type": "bar",
         "x": [
          "d",
          "d",
          "d",
          "d",
          "d",
          "d",
          "d",
          "d",
          "d",
          "d",
          "d",
          "d",
          "d"
         ],
         "xaxis": "x",
         "y": [
          1,
          1,
          1,
          1,
          1,
          1,
          1,
          1,
          1,
          1,
          1,
          1,
          1
         ],
         "yaxis": "y"
        },
        {
         "alignmentgroup": "True",
         "hovertemplate": "Nutriscore=%{x}<br>Nombre de produits=%{y}<extra></extra>",
         "legendgroup": "e",
         "marker": {
          "color": "#FFA15A",
          "pattern": {
           "shape": ""
          }
         },
         "name": "e",
         "offsetgroup": "e",
         "orientation": "v",
         "showlegend": true,
         "textposition": "auto",
         "type": "bar",
         "x": [
          "e",
          "e",
          "e",
          "e",
          "e",
          "e",
          "e",
          "e",
          "e",
          "e",
          "e",
          "e",
          "e",
          "e",
          "e",
          "e",
          "e",
          "e"
         ],
         "xaxis": "x",
         "y": [
          1,
          1,
          1,
          1,
          1,
          1,
          1,
          1,
          1,
          1,
          1,
          1,
          1,
          1,
          1,
          1,
          1,
          1
         ],
         "yaxis": "y"
        }
       ],
       "layout": {
        "barmode": "relative",
        "legend": {
         "title": {
          "text": "Nutriscore"
         },
         "tracegroupgap": 0
        },
        "template": {
         "data": {
          "bar": [
           {
            "error_x": {
             "color": "#2a3f5f"
            },
            "error_y": {
             "color": "#2a3f5f"
            },
            "marker": {
             "line": {
              "color": "#E5ECF6",
              "width": 0.5
             },
             "pattern": {
              "fillmode": "overlay",
              "size": 10,
              "solidity": 0.2
             }
            },
            "type": "bar"
           }
          ],
          "barpolar": [
           {
            "marker": {
             "line": {
              "color": "#E5ECF6",
              "width": 0.5
             },
             "pattern": {
              "fillmode": "overlay",
              "size": 10,
              "solidity": 0.2
             }
            },
            "type": "barpolar"
           }
          ],
          "carpet": [
           {
            "aaxis": {
             "endlinecolor": "#2a3f5f",
             "gridcolor": "white",
             "linecolor": "white",
             "minorgridcolor": "white",
             "startlinecolor": "#2a3f5f"
            },
            "baxis": {
             "endlinecolor": "#2a3f5f",
             "gridcolor": "white",
             "linecolor": "white",
             "minorgridcolor": "white",
             "startlinecolor": "#2a3f5f"
            },
            "type": "carpet"
           }
          ],
          "choropleth": [
           {
            "colorbar": {
             "outlinewidth": 0,
             "ticks": ""
            },
            "type": "choropleth"
           }
          ],
          "contour": [
           {
            "colorbar": {
             "outlinewidth": 0,
             "ticks": ""
            },
            "colorscale": [
             [
              0,
              "#0d0887"
             ],
             [
              0.1111111111111111,
              "#46039f"
             ],
             [
              0.2222222222222222,
              "#7201a8"
             ],
             [
              0.3333333333333333,
              "#9c179e"
             ],
             [
              0.4444444444444444,
              "#bd3786"
             ],
             [
              0.5555555555555556,
              "#d8576b"
             ],
             [
              0.6666666666666666,
              "#ed7953"
             ],
             [
              0.7777777777777778,
              "#fb9f3a"
             ],
             [
              0.8888888888888888,
              "#fdca26"
             ],
             [
              1,
              "#f0f921"
             ]
            ],
            "type": "contour"
           }
          ],
          "contourcarpet": [
           {
            "colorbar": {
             "outlinewidth": 0,
             "ticks": ""
            },
            "type": "contourcarpet"
           }
          ],
          "heatmap": [
           {
            "colorbar": {
             "outlinewidth": 0,
             "ticks": ""
            },
            "colorscale": [
             [
              0,
              "#0d0887"
             ],
             [
              0.1111111111111111,
              "#46039f"
             ],
             [
              0.2222222222222222,
              "#7201a8"
             ],
             [
              0.3333333333333333,
              "#9c179e"
             ],
             [
              0.4444444444444444,
              "#bd3786"
             ],
             [
              0.5555555555555556,
              "#d8576b"
             ],
             [
              0.6666666666666666,
              "#ed7953"
             ],
             [
              0.7777777777777778,
              "#fb9f3a"
             ],
             [
              0.8888888888888888,
              "#fdca26"
             ],
             [
              1,
              "#f0f921"
             ]
            ],
            "type": "heatmap"
           }
          ],
          "heatmapgl": [
           {
            "colorbar": {
             "outlinewidth": 0,
             "ticks": ""
            },
            "colorscale": [
             [
              0,
              "#0d0887"
             ],
             [
              0.1111111111111111,
              "#46039f"
             ],
             [
              0.2222222222222222,
              "#7201a8"
             ],
             [
              0.3333333333333333,
              "#9c179e"
             ],
             [
              0.4444444444444444,
              "#bd3786"
             ],
             [
              0.5555555555555556,
              "#d8576b"
             ],
             [
              0.6666666666666666,
              "#ed7953"
             ],
             [
              0.7777777777777778,
              "#fb9f3a"
             ],
             [
              0.8888888888888888,
              "#fdca26"
             ],
             [
              1,
              "#f0f921"
             ]
            ],
            "type": "heatmapgl"
           }
          ],
          "histogram": [
           {
            "marker": {
             "pattern": {
              "fillmode": "overlay",
              "size": 10,
              "solidity": 0.2
             }
            },
            "type": "histogram"
           }
          ],
          "histogram2d": [
           {
            "colorbar": {
             "outlinewidth": 0,
             "ticks": ""
            },
            "colorscale": [
             [
              0,
              "#0d0887"
             ],
             [
              0.1111111111111111,
              "#46039f"
             ],
             [
              0.2222222222222222,
              "#7201a8"
             ],
             [
              0.3333333333333333,
              "#9c179e"
             ],
             [
              0.4444444444444444,
              "#bd3786"
             ],
             [
              0.5555555555555556,
              "#d8576b"
             ],
             [
              0.6666666666666666,
              "#ed7953"
             ],
             [
              0.7777777777777778,
              "#fb9f3a"
             ],
             [
              0.8888888888888888,
              "#fdca26"
             ],
             [
              1,
              "#f0f921"
             ]
            ],
            "type": "histogram2d"
           }
          ],
          "histogram2dcontour": [
           {
            "colorbar": {
             "outlinewidth": 0,
             "ticks": ""
            },
            "colorscale": [
             [
              0,
              "#0d0887"
             ],
             [
              0.1111111111111111,
              "#46039f"
             ],
             [
              0.2222222222222222,
              "#7201a8"
             ],
             [
              0.3333333333333333,
              "#9c179e"
             ],
             [
              0.4444444444444444,
              "#bd3786"
             ],
             [
              0.5555555555555556,
              "#d8576b"
             ],
             [
              0.6666666666666666,
              "#ed7953"
             ],
             [
              0.7777777777777778,
              "#fb9f3a"
             ],
             [
              0.8888888888888888,
              "#fdca26"
             ],
             [
              1,
              "#f0f921"
             ]
            ],
            "type": "histogram2dcontour"
           }
          ],
          "mesh3d": [
           {
            "colorbar": {
             "outlinewidth": 0,
             "ticks": ""
            },
            "type": "mesh3d"
           }
          ],
          "parcoords": [
           {
            "line": {
             "colorbar": {
              "outlinewidth": 0,
              "ticks": ""
             }
            },
            "type": "parcoords"
           }
          ],
          "pie": [
           {
            "automargin": true,
            "type": "pie"
           }
          ],
          "scatter": [
           {
            "marker": {
             "colorbar": {
              "outlinewidth": 0,
              "ticks": ""
             }
            },
            "type": "scatter"
           }
          ],
          "scatter3d": [
           {
            "line": {
             "colorbar": {
              "outlinewidth": 0,
              "ticks": ""
             }
            },
            "marker": {
             "colorbar": {
              "outlinewidth": 0,
              "ticks": ""
             }
            },
            "type": "scatter3d"
           }
          ],
          "scattercarpet": [
           {
            "marker": {
             "colorbar": {
              "outlinewidth": 0,
              "ticks": ""
             }
            },
            "type": "scattercarpet"
           }
          ],
          "scattergeo": [
           {
            "marker": {
             "colorbar": {
              "outlinewidth": 0,
              "ticks": ""
             }
            },
            "type": "scattergeo"
           }
          ],
          "scattergl": [
           {
            "marker": {
             "colorbar": {
              "outlinewidth": 0,
              "ticks": ""
             }
            },
            "type": "scattergl"
           }
          ],
          "scattermapbox": [
           {
            "marker": {
             "colorbar": {
              "outlinewidth": 0,
              "ticks": ""
             }
            },
            "type": "scattermapbox"
           }
          ],
          "scatterpolar": [
           {
            "marker": {
             "colorbar": {
              "outlinewidth": 0,
              "ticks": ""
             }
            },
            "type": "scatterpolar"
           }
          ],
          "scatterpolargl": [
           {
            "marker": {
             "colorbar": {
              "outlinewidth": 0,
              "ticks": ""
             }
            },
            "type": "scatterpolargl"
           }
          ],
          "scatterternary": [
           {
            "marker": {
             "colorbar": {
              "outlinewidth": 0,
              "ticks": ""
             }
            },
            "type": "scatterternary"
           }
          ],
          "surface": [
           {
            "colorbar": {
             "outlinewidth": 0,
             "ticks": ""
            },
            "colorscale": [
             [
              0,
              "#0d0887"
             ],
             [
              0.1111111111111111,
              "#46039f"
             ],
             [
              0.2222222222222222,
              "#7201a8"
             ],
             [
              0.3333333333333333,
              "#9c179e"
             ],
             [
              0.4444444444444444,
              "#bd3786"
             ],
             [
              0.5555555555555556,
              "#d8576b"
             ],
             [
              0.6666666666666666,
              "#ed7953"
             ],
             [
              0.7777777777777778,
              "#fb9f3a"
             ],
             [
              0.8888888888888888,
              "#fdca26"
             ],
             [
              1,
              "#f0f921"
             ]
            ],
            "type": "surface"
           }
          ],
          "table": [
           {
            "cells": {
             "fill": {
              "color": "#EBF0F8"
             },
             "line": {
              "color": "white"
             }
            },
            "header": {
             "fill": {
              "color": "#C8D4E3"
             },
             "line": {
              "color": "white"
             }
            },
            "type": "table"
           }
          ]
         },
         "layout": {
          "annotationdefaults": {
           "arrowcolor": "#2a3f5f",
           "arrowhead": 0,
           "arrowwidth": 1
          },
          "autotypenumbers": "strict",
          "coloraxis": {
           "colorbar": {
            "outlinewidth": 0,
            "ticks": ""
           }
          },
          "colorscale": {
           "diverging": [
            [
             0,
             "#8e0152"
            ],
            [
             0.1,
             "#c51b7d"
            ],
            [
             0.2,
             "#de77ae"
            ],
            [
             0.3,
             "#f1b6da"
            ],
            [
             0.4,
             "#fde0ef"
            ],
            [
             0.5,
             "#f7f7f7"
            ],
            [
             0.6,
             "#e6f5d0"
            ],
            [
             0.7,
             "#b8e186"
            ],
            [
             0.8,
             "#7fbc41"
            ],
            [
             0.9,
             "#4d9221"
            ],
            [
             1,
             "#276419"
            ]
           ],
           "sequential": [
            [
             0,
             "#0d0887"
            ],
            [
             0.1111111111111111,
             "#46039f"
            ],
            [
             0.2222222222222222,
             "#7201a8"
            ],
            [
             0.3333333333333333,
             "#9c179e"
            ],
            [
             0.4444444444444444,
             "#bd3786"
            ],
            [
             0.5555555555555556,
             "#d8576b"
            ],
            [
             0.6666666666666666,
             "#ed7953"
            ],
            [
             0.7777777777777778,
             "#fb9f3a"
            ],
            [
             0.8888888888888888,
             "#fdca26"
            ],
            [
             1,
             "#f0f921"
            ]
           ],
           "sequentialminus": [
            [
             0,
             "#0d0887"
            ],
            [
             0.1111111111111111,
             "#46039f"
            ],
            [
             0.2222222222222222,
             "#7201a8"
            ],
            [
             0.3333333333333333,
             "#9c179e"
            ],
            [
             0.4444444444444444,
             "#bd3786"
            ],
            [
             0.5555555555555556,
             "#d8576b"
            ],
            [
             0.6666666666666666,
             "#ed7953"
            ],
            [
             0.7777777777777778,
             "#fb9f3a"
            ],
            [
             0.8888888888888888,
             "#fdca26"
            ],
            [
             1,
             "#f0f921"
            ]
           ]
          },
          "colorway": [
           "#636efa",
           "#EF553B",
           "#00cc96",
           "#ab63fa",
           "#FFA15A",
           "#19d3f3",
           "#FF6692",
           "#B6E880",
           "#FF97FF",
           "#FECB52"
          ],
          "font": {
           "color": "#2a3f5f"
          },
          "geo": {
           "bgcolor": "white",
           "lakecolor": "white",
           "landcolor": "#E5ECF6",
           "showlakes": true,
           "showland": true,
           "subunitcolor": "white"
          },
          "hoverlabel": {
           "align": "left"
          },
          "hovermode": "closest",
          "mapbox": {
           "style": "light"
          },
          "paper_bgcolor": "white",
          "plot_bgcolor": "#E5ECF6",
          "polar": {
           "angularaxis": {
            "gridcolor": "white",
            "linecolor": "white",
            "ticks": ""
           },
           "bgcolor": "#E5ECF6",
           "radialaxis": {
            "gridcolor": "white",
            "linecolor": "white",
            "ticks": ""
           }
          },
          "scene": {
           "xaxis": {
            "backgroundcolor": "#E5ECF6",
            "gridcolor": "white",
            "gridwidth": 2,
            "linecolor": "white",
            "showbackground": true,
            "ticks": "",
            "zerolinecolor": "white"
           },
           "yaxis": {
            "backgroundcolor": "#E5ECF6",
            "gridcolor": "white",
            "gridwidth": 2,
            "linecolor": "white",
            "showbackground": true,
            "ticks": "",
            "zerolinecolor": "white"
           },
           "zaxis": {
            "backgroundcolor": "#E5ECF6",
            "gridcolor": "white",
            "gridwidth": 2,
            "linecolor": "white",
            "showbackground": true,
            "ticks": "",
            "zerolinecolor": "white"
           }
          },
          "shapedefaults": {
           "line": {
            "color": "#2a3f5f"
           }
          },
          "ternary": {
           "aaxis": {
            "gridcolor": "white",
            "linecolor": "white",
            "ticks": ""
           },
           "baxis": {
            "gridcolor": "white",
            "linecolor": "white",
            "ticks": ""
           },
           "bgcolor": "#E5ECF6",
           "caxis": {
            "gridcolor": "white",
            "linecolor": "white",
            "ticks": ""
           }
          },
          "title": {
           "x": 0.05
          },
          "xaxis": {
           "automargin": true,
           "gridcolor": "white",
           "linecolor": "white",
           "ticks": "",
           "title": {
            "standoff": 15
           },
           "zerolinecolor": "white",
           "zerolinewidth": 2
          },
          "yaxis": {
           "automargin": true,
           "gridcolor": "white",
           "linecolor": "white",
           "ticks": "",
           "title": {
            "standoff": 15
           },
           "zerolinecolor": "white",
           "zerolinewidth": 2
          }
         }
        },
        "title": {
         "text": "Répartition des jus d'orange par Nutriscore"
        },
        "xaxis": {
         "anchor": "y",
         "categoryarray": [
          "a",
          "b",
          "c",
          "d",
          "e"
         ],
         "categoryorder": "array",
         "domain": [
          0,
          1
         ],
         "title": {
          "text": "Nutriscore"
         }
        },
        "yaxis": {
         "anchor": "x",
         "domain": [
          0,
          1
         ],
         "title": {
          "text": "Nombre de produits"
         }
        }
       }
      },
      "text/html": [
       "<div>                            <div id=\"0c601f90-200d-4cb2-be33-64ac8f9c4d5e\" class=\"plotly-graph-div\" style=\"height:525px; width:100%;\"></div>            <script type=\"text/javascript\">                require([\"plotly\"], function(Plotly) {                    window.PLOTLYENV=window.PLOTLYENV || {};                                    if (document.getElementById(\"0c601f90-200d-4cb2-be33-64ac8f9c4d5e\")) {                    Plotly.newPlot(                        \"0c601f90-200d-4cb2-be33-64ac8f9c4d5e\",                        [{\"alignmentgroup\":\"True\",\"hovertemplate\":\"Nutriscore=%{x}<br>Nombre de produits=%{y}<extra></extra>\",\"legendgroup\":\"a\",\"marker\":{\"color\":\"#636efa\",\"pattern\":{\"shape\":\"\"}},\"name\":\"a\",\"offsetgroup\":\"a\",\"orientation\":\"v\",\"showlegend\":true,\"textposition\":\"auto\",\"type\":\"bar\",\"x\":[\"a\",\"a\"],\"xaxis\":\"x\",\"y\":[1,1],\"yaxis\":\"y\"},{\"alignmentgroup\":\"True\",\"hovertemplate\":\"Nutriscore=%{x}<br>Nombre de produits=%{y}<extra></extra>\",\"legendgroup\":\"b\",\"marker\":{\"color\":\"#EF553B\",\"pattern\":{\"shape\":\"\"}},\"name\":\"b\",\"offsetgroup\":\"b\",\"orientation\":\"v\",\"showlegend\":true,\"textposition\":\"auto\",\"type\":\"bar\",\"x\":[\"b\",\"b\",\"b\",\"b\",\"b\",\"b\",\"b\",\"b\",\"b\",\"b\",\"b\",\"b\",\"b\",\"b\",\"b\",\"b\",\"b\",\"b\",\"b\",\"b\",\"b\",\"b\",\"b\",\"b\",\"b\",\"b\",\"b\",\"b\",\"b\",\"b\",\"b\",\"b\",\"b\",\"b\",\"b\",\"b\",\"b\"],\"xaxis\":\"x\",\"y\":[1,1,1,1,1,1,1,1,1,1,1,1,1,1,1,1,1,1,1,1,1,1,1,1,1,1,1,1,1,1,1,1,1,1,1,1,1],\"yaxis\":\"y\"},{\"alignmentgroup\":\"True\",\"hovertemplate\":\"Nutriscore=%{x}<br>Nombre de produits=%{y}<extra></extra>\",\"legendgroup\":\"c\",\"marker\":{\"color\":\"#00cc96\",\"pattern\":{\"shape\":\"\"}},\"name\":\"c\",\"offsetgroup\":\"c\",\"orientation\":\"v\",\"showlegend\":true,\"textposition\":\"auto\",\"type\":\"bar\",\"x\":[\"c\",\"c\",\"c\",\"c\",\"c\",\"c\",\"c\",\"c\",\"c\",\"c\",\"c\",\"c\",\"c\",\"c\",\"c\",\"c\",\"c\",\"c\",\"c\",\"c\",\"c\",\"c\",\"c\",\"c\",\"c\",\"c\",\"c\",\"c\",\"c\",\"c\",\"c\",\"c\",\"c\",\"c\",\"c\",\"c\",\"c\",\"c\",\"c\",\"c\",\"c\",\"c\",\"c\",\"c\",\"c\",\"c\",\"c\",\"c\",\"c\",\"c\",\"c\",\"c\",\"c\",\"c\",\"c\",\"c\",\"c\",\"c\",\"c\",\"c\",\"c\",\"c\",\"c\",\"c\",\"c\",\"c\",\"c\",\"c\",\"c\",\"c\",\"c\",\"c\",\"c\",\"c\",\"c\",\"c\",\"c\",\"c\",\"c\",\"c\",\"c\",\"c\",\"c\",\"c\",\"c\",\"c\",\"c\",\"c\",\"c\",\"c\",\"c\",\"c\",\"c\",\"c\",\"c\",\"c\",\"c\",\"c\",\"c\",\"c\",\"c\",\"c\",\"c\",\"c\",\"c\",\"c\",\"c\",\"c\",\"c\",\"c\",\"c\",\"c\",\"c\",\"c\",\"c\",\"c\",\"c\",\"c\",\"c\",\"c\",\"c\",\"c\",\"c\",\"c\",\"c\",\"c\",\"c\",\"c\",\"c\",\"c\",\"c\",\"c\",\"c\",\"c\",\"c\",\"c\",\"c\",\"c\",\"c\",\"c\",\"c\",\"c\",\"c\",\"c\",\"c\",\"c\",\"c\",\"c\",\"c\",\"c\",\"c\",\"c\",\"c\",\"c\",\"c\",\"c\",\"c\",\"c\",\"c\",\"c\",\"c\",\"c\",\"c\",\"c\",\"c\",\"c\",\"c\",\"c\",\"c\",\"c\",\"c\",\"c\",\"c\",\"c\",\"c\",\"c\",\"c\",\"c\",\"c\",\"c\",\"c\",\"c\",\"c\",\"c\",\"c\",\"c\",\"c\",\"c\",\"c\",\"c\",\"c\",\"c\",\"c\",\"c\",\"c\",\"c\",\"c\",\"c\",\"c\",\"c\",\"c\",\"c\",\"c\",\"c\",\"c\",\"c\",\"c\",\"c\",\"c\",\"c\",\"c\",\"c\",\"c\",\"c\",\"c\",\"c\",\"c\",\"c\",\"c\",\"c\",\"c\",\"c\",\"c\",\"c\",\"c\",\"c\",\"c\",\"c\",\"c\",\"c\",\"c\",\"c\",\"c\",\"c\",\"c\",\"c\",\"c\",\"c\",\"c\",\"c\",\"c\",\"c\",\"c\",\"c\",\"c\",\"c\",\"c\",\"c\",\"c\",\"c\",\"c\",\"c\",\"c\",\"c\",\"c\",\"c\",\"c\",\"c\",\"c\",\"c\",\"c\",\"c\",\"c\",\"c\",\"c\",\"c\",\"c\",\"c\",\"c\",\"c\",\"c\",\"c\",\"c\",\"c\",\"c\",\"c\",\"c\",\"c\",\"c\",\"c\",\"c\",\"c\",\"c\",\"c\",\"c\",\"c\",\"c\"],\"xaxis\":\"x\",\"y\":[1,1,1,1,1,1,1,1,1,1,1,1,1,1,1,1,1,1,1,1,1,1,1,1,1,1,1,1,1,1,1,1,1,1,1,1,1,1,1,1,1,1,1,1,1,1,1,1,1,1,1,1,1,1,1,1,1,1,1,1,1,1,1,1,1,1,1,1,1,1,1,1,1,1,1,1,1,1,1,1,1,1,1,1,1,1,1,1,1,1,1,1,1,1,1,1,1,1,1,1,1,1,1,1,1,1,1,1,1,1,1,1,1,1,1,1,1,1,1,1,1,1,1,1,1,1,1,1,1,1,1,1,1,1,1,1,1,1,1,1,1,1,1,1,1,1,1,1,1,1,1,1,1,1,1,1,1,1,1,1,1,1,1,1,1,1,1,1,1,1,1,1,1,1,1,1,1,1,1,1,1,1,1,1,1,1,1,1,1,1,1,1,1,1,1,1,1,1,1,1,1,1,1,1,1,1,1,1,1,1,1,1,1,1,1,1,1,1,1,1,1,1,1,1,1,1,1,1,1,1,1,1,1,1,1,1,1,1,1,1,1,1,1,1,1,1,1,1,1,1,1,1,1,1,1,1,1,1,1,1,1,1,1,1,1,1,1,1,1,1,1,1,1,1,1,1,1,1,1,1,1,1,1,1,1,1,1],\"yaxis\":\"y\"},{\"alignmentgroup\":\"True\",\"hovertemplate\":\"Nutriscore=%{x}<br>Nombre de produits=%{y}<extra></extra>\",\"legendgroup\":\"d\",\"marker\":{\"color\":\"#ab63fa\",\"pattern\":{\"shape\":\"\"}},\"name\":\"d\",\"offsetgroup\":\"d\",\"orientation\":\"v\",\"showlegend\":true,\"textposition\":\"auto\",\"type\":\"bar\",\"x\":[\"d\",\"d\",\"d\",\"d\",\"d\",\"d\",\"d\",\"d\",\"d\",\"d\",\"d\",\"d\",\"d\"],\"xaxis\":\"x\",\"y\":[1,1,1,1,1,1,1,1,1,1,1,1,1],\"yaxis\":\"y\"},{\"alignmentgroup\":\"True\",\"hovertemplate\":\"Nutriscore=%{x}<br>Nombre de produits=%{y}<extra></extra>\",\"legendgroup\":\"e\",\"marker\":{\"color\":\"#FFA15A\",\"pattern\":{\"shape\":\"\"}},\"name\":\"e\",\"offsetgroup\":\"e\",\"orientation\":\"v\",\"showlegend\":true,\"textposition\":\"auto\",\"type\":\"bar\",\"x\":[\"e\",\"e\",\"e\",\"e\",\"e\",\"e\",\"e\",\"e\",\"e\",\"e\",\"e\",\"e\",\"e\",\"e\",\"e\",\"e\",\"e\",\"e\"],\"xaxis\":\"x\",\"y\":[1,1,1,1,1,1,1,1,1,1,1,1,1,1,1,1,1,1],\"yaxis\":\"y\"}],                        {\"barmode\":\"relative\",\"legend\":{\"title\":{\"text\":\"Nutriscore\"},\"tracegroupgap\":0},\"template\":{\"data\":{\"bar\":[{\"error_x\":{\"color\":\"#2a3f5f\"},\"error_y\":{\"color\":\"#2a3f5f\"},\"marker\":{\"line\":{\"color\":\"#E5ECF6\",\"width\":0.5},\"pattern\":{\"fillmode\":\"overlay\",\"size\":10,\"solidity\":0.2}},\"type\":\"bar\"}],\"barpolar\":[{\"marker\":{\"line\":{\"color\":\"#E5ECF6\",\"width\":0.5},\"pattern\":{\"fillmode\":\"overlay\",\"size\":10,\"solidity\":0.2}},\"type\":\"barpolar\"}],\"carpet\":[{\"aaxis\":{\"endlinecolor\":\"#2a3f5f\",\"gridcolor\":\"white\",\"linecolor\":\"white\",\"minorgridcolor\":\"white\",\"startlinecolor\":\"#2a3f5f\"},\"baxis\":{\"endlinecolor\":\"#2a3f5f\",\"gridcolor\":\"white\",\"linecolor\":\"white\",\"minorgridcolor\":\"white\",\"startlinecolor\":\"#2a3f5f\"},\"type\":\"carpet\"}],\"choropleth\":[{\"colorbar\":{\"outlinewidth\":0,\"ticks\":\"\"},\"type\":\"choropleth\"}],\"contour\":[{\"colorbar\":{\"outlinewidth\":0,\"ticks\":\"\"},\"colorscale\":[[0.0,\"#0d0887\"],[0.1111111111111111,\"#46039f\"],[0.2222222222222222,\"#7201a8\"],[0.3333333333333333,\"#9c179e\"],[0.4444444444444444,\"#bd3786\"],[0.5555555555555556,\"#d8576b\"],[0.6666666666666666,\"#ed7953\"],[0.7777777777777778,\"#fb9f3a\"],[0.8888888888888888,\"#fdca26\"],[1.0,\"#f0f921\"]],\"type\":\"contour\"}],\"contourcarpet\":[{\"colorbar\":{\"outlinewidth\":0,\"ticks\":\"\"},\"type\":\"contourcarpet\"}],\"heatmap\":[{\"colorbar\":{\"outlinewidth\":0,\"ticks\":\"\"},\"colorscale\":[[0.0,\"#0d0887\"],[0.1111111111111111,\"#46039f\"],[0.2222222222222222,\"#7201a8\"],[0.3333333333333333,\"#9c179e\"],[0.4444444444444444,\"#bd3786\"],[0.5555555555555556,\"#d8576b\"],[0.6666666666666666,\"#ed7953\"],[0.7777777777777778,\"#fb9f3a\"],[0.8888888888888888,\"#fdca26\"],[1.0,\"#f0f921\"]],\"type\":\"heatmap\"}],\"heatmapgl\":[{\"colorbar\":{\"outlinewidth\":0,\"ticks\":\"\"},\"colorscale\":[[0.0,\"#0d0887\"],[0.1111111111111111,\"#46039f\"],[0.2222222222222222,\"#7201a8\"],[0.3333333333333333,\"#9c179e\"],[0.4444444444444444,\"#bd3786\"],[0.5555555555555556,\"#d8576b\"],[0.6666666666666666,\"#ed7953\"],[0.7777777777777778,\"#fb9f3a\"],[0.8888888888888888,\"#fdca26\"],[1.0,\"#f0f921\"]],\"type\":\"heatmapgl\"}],\"histogram\":[{\"marker\":{\"pattern\":{\"fillmode\":\"overlay\",\"size\":10,\"solidity\":0.2}},\"type\":\"histogram\"}],\"histogram2d\":[{\"colorbar\":{\"outlinewidth\":0,\"ticks\":\"\"},\"colorscale\":[[0.0,\"#0d0887\"],[0.1111111111111111,\"#46039f\"],[0.2222222222222222,\"#7201a8\"],[0.3333333333333333,\"#9c179e\"],[0.4444444444444444,\"#bd3786\"],[0.5555555555555556,\"#d8576b\"],[0.6666666666666666,\"#ed7953\"],[0.7777777777777778,\"#fb9f3a\"],[0.8888888888888888,\"#fdca26\"],[1.0,\"#f0f921\"]],\"type\":\"histogram2d\"}],\"histogram2dcontour\":[{\"colorbar\":{\"outlinewidth\":0,\"ticks\":\"\"},\"colorscale\":[[0.0,\"#0d0887\"],[0.1111111111111111,\"#46039f\"],[0.2222222222222222,\"#7201a8\"],[0.3333333333333333,\"#9c179e\"],[0.4444444444444444,\"#bd3786\"],[0.5555555555555556,\"#d8576b\"],[0.6666666666666666,\"#ed7953\"],[0.7777777777777778,\"#fb9f3a\"],[0.8888888888888888,\"#fdca26\"],[1.0,\"#f0f921\"]],\"type\":\"histogram2dcontour\"}],\"mesh3d\":[{\"colorbar\":{\"outlinewidth\":0,\"ticks\":\"\"},\"type\":\"mesh3d\"}],\"parcoords\":[{\"line\":{\"colorbar\":{\"outlinewidth\":0,\"ticks\":\"\"}},\"type\":\"parcoords\"}],\"pie\":[{\"automargin\":true,\"type\":\"pie\"}],\"scatter\":[{\"marker\":{\"colorbar\":{\"outlinewidth\":0,\"ticks\":\"\"}},\"type\":\"scatter\"}],\"scatter3d\":[{\"line\":{\"colorbar\":{\"outlinewidth\":0,\"ticks\":\"\"}},\"marker\":{\"colorbar\":{\"outlinewidth\":0,\"ticks\":\"\"}},\"type\":\"scatter3d\"}],\"scattercarpet\":[{\"marker\":{\"colorbar\":{\"outlinewidth\":0,\"ticks\":\"\"}},\"type\":\"scattercarpet\"}],\"scattergeo\":[{\"marker\":{\"colorbar\":{\"outlinewidth\":0,\"ticks\":\"\"}},\"type\":\"scattergeo\"}],\"scattergl\":[{\"marker\":{\"colorbar\":{\"outlinewidth\":0,\"ticks\":\"\"}},\"type\":\"scattergl\"}],\"scattermapbox\":[{\"marker\":{\"colorbar\":{\"outlinewidth\":0,\"ticks\":\"\"}},\"type\":\"scattermapbox\"}],\"scatterpolar\":[{\"marker\":{\"colorbar\":{\"outlinewidth\":0,\"ticks\":\"\"}},\"type\":\"scatterpolar\"}],\"scatterpolargl\":[{\"marker\":{\"colorbar\":{\"outlinewidth\":0,\"ticks\":\"\"}},\"type\":\"scatterpolargl\"}],\"scatterternary\":[{\"marker\":{\"colorbar\":{\"outlinewidth\":0,\"ticks\":\"\"}},\"type\":\"scatterternary\"}],\"surface\":[{\"colorbar\":{\"outlinewidth\":0,\"ticks\":\"\"},\"colorscale\":[[0.0,\"#0d0887\"],[0.1111111111111111,\"#46039f\"],[0.2222222222222222,\"#7201a8\"],[0.3333333333333333,\"#9c179e\"],[0.4444444444444444,\"#bd3786\"],[0.5555555555555556,\"#d8576b\"],[0.6666666666666666,\"#ed7953\"],[0.7777777777777778,\"#fb9f3a\"],[0.8888888888888888,\"#fdca26\"],[1.0,\"#f0f921\"]],\"type\":\"surface\"}],\"table\":[{\"cells\":{\"fill\":{\"color\":\"#EBF0F8\"},\"line\":{\"color\":\"white\"}},\"header\":{\"fill\":{\"color\":\"#C8D4E3\"},\"line\":{\"color\":\"white\"}},\"type\":\"table\"}]},\"layout\":{\"annotationdefaults\":{\"arrowcolor\":\"#2a3f5f\",\"arrowhead\":0,\"arrowwidth\":1},\"autotypenumbers\":\"strict\",\"coloraxis\":{\"colorbar\":{\"outlinewidth\":0,\"ticks\":\"\"}},\"colorscale\":{\"diverging\":[[0,\"#8e0152\"],[0.1,\"#c51b7d\"],[0.2,\"#de77ae\"],[0.3,\"#f1b6da\"],[0.4,\"#fde0ef\"],[0.5,\"#f7f7f7\"],[0.6,\"#e6f5d0\"],[0.7,\"#b8e186\"],[0.8,\"#7fbc41\"],[0.9,\"#4d9221\"],[1,\"#276419\"]],\"sequential\":[[0.0,\"#0d0887\"],[0.1111111111111111,\"#46039f\"],[0.2222222222222222,\"#7201a8\"],[0.3333333333333333,\"#9c179e\"],[0.4444444444444444,\"#bd3786\"],[0.5555555555555556,\"#d8576b\"],[0.6666666666666666,\"#ed7953\"],[0.7777777777777778,\"#fb9f3a\"],[0.8888888888888888,\"#fdca26\"],[1.0,\"#f0f921\"]],\"sequentialminus\":[[0.0,\"#0d0887\"],[0.1111111111111111,\"#46039f\"],[0.2222222222222222,\"#7201a8\"],[0.3333333333333333,\"#9c179e\"],[0.4444444444444444,\"#bd3786\"],[0.5555555555555556,\"#d8576b\"],[0.6666666666666666,\"#ed7953\"],[0.7777777777777778,\"#fb9f3a\"],[0.8888888888888888,\"#fdca26\"],[1.0,\"#f0f921\"]]},\"colorway\":[\"#636efa\",\"#EF553B\",\"#00cc96\",\"#ab63fa\",\"#FFA15A\",\"#19d3f3\",\"#FF6692\",\"#B6E880\",\"#FF97FF\",\"#FECB52\"],\"font\":{\"color\":\"#2a3f5f\"},\"geo\":{\"bgcolor\":\"white\",\"lakecolor\":\"white\",\"landcolor\":\"#E5ECF6\",\"showlakes\":true,\"showland\":true,\"subunitcolor\":\"white\"},\"hoverlabel\":{\"align\":\"left\"},\"hovermode\":\"closest\",\"mapbox\":{\"style\":\"light\"},\"paper_bgcolor\":\"white\",\"plot_bgcolor\":\"#E5ECF6\",\"polar\":{\"angularaxis\":{\"gridcolor\":\"white\",\"linecolor\":\"white\",\"ticks\":\"\"},\"bgcolor\":\"#E5ECF6\",\"radialaxis\":{\"gridcolor\":\"white\",\"linecolor\":\"white\",\"ticks\":\"\"}},\"scene\":{\"xaxis\":{\"backgroundcolor\":\"#E5ECF6\",\"gridcolor\":\"white\",\"gridwidth\":2,\"linecolor\":\"white\",\"showbackground\":true,\"ticks\":\"\",\"zerolinecolor\":\"white\"},\"yaxis\":{\"backgroundcolor\":\"#E5ECF6\",\"gridcolor\":\"white\",\"gridwidth\":2,\"linecolor\":\"white\",\"showbackground\":true,\"ticks\":\"\",\"zerolinecolor\":\"white\"},\"zaxis\":{\"backgroundcolor\":\"#E5ECF6\",\"gridcolor\":\"white\",\"gridwidth\":2,\"linecolor\":\"white\",\"showbackground\":true,\"ticks\":\"\",\"zerolinecolor\":\"white\"}},\"shapedefaults\":{\"line\":{\"color\":\"#2a3f5f\"}},\"ternary\":{\"aaxis\":{\"gridcolor\":\"white\",\"linecolor\":\"white\",\"ticks\":\"\"},\"baxis\":{\"gridcolor\":\"white\",\"linecolor\":\"white\",\"ticks\":\"\"},\"bgcolor\":\"#E5ECF6\",\"caxis\":{\"gridcolor\":\"white\",\"linecolor\":\"white\",\"ticks\":\"\"}},\"title\":{\"x\":0.05},\"xaxis\":{\"automargin\":true,\"gridcolor\":\"white\",\"linecolor\":\"white\",\"ticks\":\"\",\"title\":{\"standoff\":15},\"zerolinecolor\":\"white\",\"zerolinewidth\":2},\"yaxis\":{\"automargin\":true,\"gridcolor\":\"white\",\"linecolor\":\"white\",\"ticks\":\"\",\"title\":{\"standoff\":15},\"zerolinecolor\":\"white\",\"zerolinewidth\":2}}},\"title\":{\"text\":\"R\\u00e9partition des jus d'orange par Nutriscore\"},\"xaxis\":{\"anchor\":\"y\",\"categoryarray\":[\"a\",\"b\",\"c\",\"d\",\"e\"],\"categoryorder\":\"array\",\"domain\":[0.0,1.0],\"title\":{\"text\":\"Nutriscore\"}},\"yaxis\":{\"anchor\":\"x\",\"domain\":[0.0,1.0],\"title\":{\"text\":\"Nombre de produits\"}}},                        {\"responsive\": true}                    ).then(function(){\n",
       "                            \n",
       "var gd = document.getElementById('0c601f90-200d-4cb2-be33-64ac8f9c4d5e');\n",
       "var x = new MutationObserver(function (mutations, observer) {{\n",
       "        var display = window.getComputedStyle(gd).display;\n",
       "        if (!display || display === 'none') {{\n",
       "            console.log([gd, 'removed!']);\n",
       "            Plotly.purge(gd);\n",
       "            observer.disconnect();\n",
       "        }}\n",
       "}});\n",
       "\n",
       "// Listen for the removal of the full notebook cells\n",
       "var notebookContainer = gd.closest('#notebook-container');\n",
       "if (notebookContainer) {{\n",
       "    x.observe(notebookContainer, {childList: true});\n",
       "}}\n",
       "\n",
       "// Listen for the clearing of the current output cell\n",
       "var outputEl = gd.closest('.output');\n",
       "if (outputEl) {{\n",
       "    x.observe(outputEl, {childList: true});\n",
       "}}\n",
       "\n",
       "                        })                };                });            </script>        </div>"
      ]
     },
     "metadata": {},
     "output_type": "display_data"
    }
   ],
   "source": [
    "# visualisation\n",
    "fig = px.bar(df_nutriscore, x=\"nutriscore_grade\", color=\"nutriscore_grade\", labels={\n",
    "                     \"nutriscore_grade\": \"Nutriscore\",\n",
    "                     \"count\": \"Nombre de produits\",\n",
    "                 },\n",
    "                title=\"Répartition des jus d'orange par Nutriscore\",\n",
    "             category_orders={\"nutriscore_grade\":['a','b','c','d','e']})\n",
    "#fig.update_layout(xaxis={'categoryorder':'total descending'})\n",
    "fig.show()"
   ]
  },
  {
   "cell_type": "markdown",
   "id": "75932cf6",
   "metadata": {},
   "source": [
    "# <b>Ratio sucre / kilocalorie</b>"
   ]
  },
  {
   "cell_type": "code",
   "execution_count": 28,
   "id": "de0bd730",
   "metadata": {},
   "outputs": [],
   "source": [
    "# nouveau dataframe avec nos targets\n",
    "df_visu1 = df[['sugars_100g', 'energy-kcal_100g']]"
   ]
  },
  {
   "cell_type": "code",
   "execution_count": 29,
   "id": "371872f4",
   "metadata": {},
   "outputs": [],
   "source": [
    "# standardisation de sugars_100g et energy-kcal_100g pour obtenir la même échelle\n",
    "df_visu1 = MinMaxScaler().fit_transform(df_visu1)"
   ]
  },
  {
   "cell_type": "code",
   "execution_count": 30,
   "id": "bce3e52d",
   "metadata": {},
   "outputs": [],
   "source": [
    "# conversion du numpy array en dataframe\n",
    "df_visu1 = pd.DataFrame(df_visu1, columns=['Sucre', 'Kcal'])"
   ]
  },
  {
   "cell_type": "code",
   "execution_count": 31,
   "id": "183f185c",
   "metadata": {},
   "outputs": [
    {
     "data": {
      "application/vnd.plotly.v1+json": {
       "config": {
        "plotlyServerURL": "https://plot.ly"
       },
       "data": [
        {
         "marker": {
          "color": "rgba(171, 50, 96, 0.6)"
         },
         "name": "Sucre",
         "opacity": 0.75,
         "type": "histogram",
         "x": [
          0.15806988352745424,
          0.129783693843594,
          0.008319467554076539,
          0,
          0.14975041597337768,
          0,
          0.16638935108153077,
          0.14309484193011646,
          0.2828618968386023,
          0.16638935108153077,
          0.129783693843594,
          0.15640599001663893,
          0,
          0,
          0,
          0.14475873544093176,
          0.14309484193011646,
          0.14475873544093176,
          0.17970049916805325,
          0.18302828618968386,
          0.14975041597337768,
          0,
          0,
          0.151414309484193,
          0.16638935108153077,
          0.1464226289517471,
          0,
          0.14975041597337768,
          0.15806988352745424,
          0,
          0.15640599001663893,
          0.14309484193011646,
          0.14475873544093176,
          0,
          0,
          0,
          0,
          0,
          0,
          0,
          0,
          0,
          0,
          0.16472545757071547,
          0.18302828618968386,
          0.1747088186356073,
          0,
          0.16638935108153077,
          0.14475873544093176,
          0.1530782029950083,
          0,
          0.16805324459234608,
          0,
          0,
          0.16638935108153077,
          0.15806988352745424,
          0.16638935108153077,
          0.14475873544093176,
          0,
          0,
          0.13643926788685523,
          1,
          0.14475873544093176,
          0.15806988352745424,
          0.21630615640599,
          0.15474209650582363,
          0.013311148086522463,
          0.009983361461595008,
          0.13311148086522462,
          0.14975041597337768,
          0.1530782029950083,
          0.16638935108153077,
          0.15640599001663893,
          0.151414309484193,
          0.14975041597337768,
          0.18302828618968386,
          0,
          0,
          0.14475873544093176,
          0,
          0.14475873544093176,
          0.14475873544093176,
          0.15806988352745424,
          0.14475873544093176,
          0.16971713810316139,
          0.14475873544093176,
          0.14475873544093176,
          0.13643926788685523,
          0.1697171349295341,
          0.14475873544093176,
          0.15806988352745424,
          0.14475873544093176,
          0.11980033277870215,
          0.12312811980033278,
          0,
          0,
          0.13976705490848584,
          0.16638935108153077,
          0.13477537437603992,
          0.14975041597337768,
          0.18302828618968386,
          0.21630615640599,
          0.16638935108153077,
          0.16638935108153077,
          0.15474209650582363,
          0.16638935108153077,
          0.14475873544093176,
          0.13643926788685523,
          0.14475873544093176,
          0,
          0.14475873544093176,
          0.14143094841930115,
          0.151414309484193,
          0.18302828618968386,
          0.1747088186356073,
          0.14143094841930115,
          0.16638935108153077,
          0.1464226289517471,
          0.14143094841930115,
          0.16638935108153077,
          0.15806988352745424,
          0.15640599001663893,
          0.1464226289517471,
          0.16638935108153077,
          0.14309484193011646,
          0.16306156405990016,
          0.16306156405990016,
          0.1530782029950083,
          0.13810316139767057,
          0.14475873544093176,
          0.1913477537437604,
          0.15640599001663893,
          0.14475873544093176,
          0.14975041597337768,
          0.14975041597337768,
          0.16139767054908483,
          0.14975041597337768,
          0.14143094841930115,
          0.24958402662229617,
          0.13643926788685523,
          0.16638935108153077,
          0.18302828618968386,
          0.14143094841930115,
          0.18302828618968386,
          0.14975041597337768,
          0.14975041597337768,
          0.15973377703826955,
          0.14475873544093176,
          0.14475873544093176,
          0.16638935108153077,
          0.13311148086522462,
          0.13477537437603992,
          0.18302828618968386,
          0.13311148086522462,
          0.14475873544093176,
          0.14475873544093176,
          0.14475873544093176,
          0.15806988352745424,
          0.15640599001663893,
          0.14475873544093176,
          0.16472545757071547,
          0.17138103161397672,
          0.18136439267886856,
          0.18469217970049914,
          0.15806988352745424,
          0.14975041597337768,
          0.18635607321131445,
          0.13477537437603992,
          0.13477537437603992,
          0.14475873544093176,
          0.1064891846921797,
          0.13477537437603992,
          0.18302828618968386,
          0.15806988352745424,
          0.14475873544093176,
          0.18302828618968386,
          0.14475873544093176,
          0.13477537437603992,
          0.13477537437603992,
          0.13477537437603992,
          0.13477537437603992,
          0.13477537437603992,
          0.15806988352745424,
          0.14475873544093176,
          0.14475873544093176,
          0.13477537437603992,
          0.14475873544093176,
          0.14475873544093176,
          0.14475873544093176,
          0.14475873226730615,
          0.15806988352745424,
          0.14475873544093176,
          0.14475873544093176,
          0.14475873544093176,
          0.14475873544093176,
          0.14475873544093176,
          0.14475873226730615,
          0.14475873544093176,
          0.14475873226730615,
          0.14475873544093176,
          0.1281198003327787,
          0.16638935108153077,
          0.15806988352745424,
          0.15640599001663893,
          0.14975041597337768,
          0.14975041597337768,
          0.14975041597337768,
          0.16638935108153077,
          0.16638935108153077,
          0.16805324459234608,
          0.14475873544093176,
          0.16638935108153077,
          0.16971713810316139,
          0.16638935108153077,
          0.15640598366938935,
          0.1347753807232895,
          0.15474209650582363,
          0.13810316139767057,
          0.14143094841930115,
          0.151414309484193,
          0.16638935108153077,
          0.14975041597337768,
          0.14975041597337768,
          0.173044925124792,
          0.15806988352745424,
          0.13810316139767057,
          0.13810316139767057,
          0.16638935108153077,
          0.14975041597337768,
          0.13311148086522462,
          0.14143094841930115,
          0.15474209650582363,
          0.14975041597337768,
          0.15640599001663893,
          0.14975041597337768,
          0.14309484193011646,
          0.129783693843594,
          0.1464226289517471,
          0.14143094841930115,
          0.14143094841930115,
          0.13311148086522462,
          0.13311148086522462,
          0.13311148086522462,
          0.13311148086522462,
          0.13311148086522462,
          0.13311148086522462,
          0,
          0.14309484193011646,
          0.14975041597337768,
          0.14975041597337768,
          0.14309484193011646,
          0.14309484193011646,
          0.14309484193011646,
          0.14975041597337768,
          0.13144758894122127,
          0.1364392647132296,
          0.1281198003327787,
          0,
          0.14475873544093176,
          0.14975041597337768,
          0.13976705490848584,
          0.1314475873544093,
          0.14475873544093176,
          0.3494176372712146,
          0.14143094841930115,
          0,
          0.11647254575707154,
          0.1464226289517471,
          0.1530782029950083,
          0.1281198003327787,
          0.1464226289517471,
          0.14143094841930115,
          0.129783693843594,
          0.15474209650582363,
          0.1530782029950083,
          0.16638935108153077,
          0.14309484193011646,
          0,
          0.14309484193011646,
          0.13311148086522462,
          0.16638935108153077,
          0.16638935108153077,
          0.07986688851913477,
          0.13643926788685523,
          0.14475873544093176,
          0.15474209650582363,
          0.15307819982138268,
          0.15973378338551913,
          0.15474209650582363,
          0.15474209650582363,
          0.14143094841930115,
          0.15973378338551913,
          0.13810316457129618,
          0,
          0.13976705490848584,
          0.14475873226730615,
          0.14975041597337768,
          0.13477537437603992,
          0.08485856905158069,
          0,
          0,
          0.13311148086522462,
          0.14975041597337768,
          0.151414309484193,
          0,
          0.14475873544093176,
          0.14475873544093176,
          0.14975041597337768,
          0.13976705490848584,
          0.16971713810316139,
          0.1464226289517471,
          0.14975041597337768,
          0,
          0.18302828618968386,
          0.14475873544093176,
          0.14475873544093176,
          0.14475873544093176,
          0.14975041597337768,
          0.15806988352745424,
          0,
          0,
          0.14475873544093176,
          0.14475873226730615,
          0,
          0.15474209650582363,
          0.14475873544093176,
          0.14475873544093176,
          0.14475873544093176,
          0.14475873544093176,
          0.16139767054908483,
          0,
          0.13810316139767057,
          0.1480865224625624,
          0.14975041597337768,
          0.16306156405990016,
          0.18302828618968386,
          0.14475873544093176,
          0.16139767054908483,
          0.14975041597337768,
          0.18302828618968386,
          0.15474209650582363,
          0.18302828618968386,
          0.18302828618968386,
          0,
          0.15806988352745424,
          0.14475873544093176,
          0,
          0.18302828618968386,
          0.16638935108153077,
          0,
          0.16638935108153077,
          0.18302828618968386,
          0.1264559068219634,
          0,
          0.13477537437603992,
          0.13477537437603992,
          0.15474209967944924,
          0.14475873544093176,
          0.18801996672212978,
          0.1963394374498336,
          0,
          0,
          0.18302828618968386,
          0.1763727184936772,
          0.14475873544093176,
          0.16971713810316139,
          0.16638935108153077,
          0.14475873544093176,
          0.14475873544093176,
          0.14475873226730615,
          0.21630615640599,
          0.14475873544093176,
          0,
          0.14475873544093176,
          0.1480865224625624,
          0.16638935108153077,
          0.15806988352745424,
          0.16638935108153077,
          0.16638935108153077,
          0.16638935108153077,
          0.12479201331114809,
          0.14475873544093176,
          0.14475873544093176,
          0.14475873544093176,
          0.14475873544093176,
          0.13477537437603992,
          0.173044925124792,
          0.151414309484193,
          0.15640599001663893,
          0.151414309484193,
          0.16638935108153077,
          0.16638935108153077,
          0,
          0.15474209650582363,
          0,
          0.13178036605657237,
          0,
          0.16638935108153077,
          0.19633943427620631,
          0.14475873544093176,
          0.14475873544093176,
          0,
          0.16638935108153077,
          0.13311148086522462,
          0.14475873226730615,
          0.16638935108153077,
          0,
          0.15973377703826955,
          0.14475873544093176,
          0.14475873544093176,
          0.16139767054908483,
          0.14475873544093176,
          0.16139767054908483,
          0.16638935108153077,
          0.14975041597337768,
          0.16638935108153077,
          0.1480865224625624,
          0.14309484193011646,
          0.16638935108153077,
          0.14475873544093176,
          0.14475873226730615,
          0.1480865224625624,
          0.1480865224625624,
          0.06988352745424292,
          0,
          0.21630615640599,
          0.12312811980033278,
          0,
          0.14975041597337768,
          0.14975041597337768,
          0.14975041597337768,
          0.13311148086522462,
          0.13311148086522462,
          0.14475873544093176,
          0.14475873226730615,
          0.14975041597337768,
          0.16805324459234608,
          0.16638935108153077,
          0.16638935108153077,
          0.16638935108153077,
          0.16638935108153077,
          0.14475873226730615,
          0.14475873544093176,
          0.16638935108153077,
          0.16638935108153077,
          0.16638935108153077,
          0.1464226289517471,
          0.16638935108153077,
          0.18302828618968386,
          0.18302828618968386,
          0.18302828618968386,
          0.1594009983361065,
          0.1594009983361065,
          0.14475873544093176,
          0.15474209650582363,
          0.1530782029950083,
          0.1314475873544093,
          0.14975041597337768,
          0.14975041597337768,
          0.13311148086522462,
          0,
          0.14975041597337768,
          0.14975041597337768,
          0.14975041597337768,
          0.1530782029950083,
          0.12479201331114809,
          0.15973377703826955,
          0,
          0,
          0.32279534109816965,
          0,
          0.13643926788685523,
          0.14143094841930115,
          0.13643926788685523,
          0.129783693843594,
          0.129783693843594,
          0.18302828618968386,
          0,
          0.15640599001663893,
          0.16638935108153077,
          0.16638935108153077,
          0.18635607321131445,
          0.19966722129783693,
          0.27687188019966724,
          0.18302828618968386,
          0.1763727121464226,
          0.09983361064891846,
          0,
          0,
          0.14475873544093176,
          0.14475873544093176,
          0,
          0,
          0,
          0,
          0.036605657237936774,
          0.09484193011647254,
          0,
          0.1098169717138103,
          0,
          0.20965058236272877,
          0.15973377703826955,
          0,
          0,
          0.13311148086522462,
          0.1264559068219634,
          0.1747088186356073,
          0.14975041597337768,
          0,
          0.15806988352745424,
          0.15640598366938935,
          0.36605657237936773,
          0.15474209650582363,
          0,
          0,
          0
         ]
        },
        {
         "marker": {
          "color": "rgba(12, 50, 196, 0.6)"
         },
         "name": "Kcal",
         "opacity": 0.75,
         "type": "histogram",
         "x": [
          0.23232323232323235,
          0.18686868686868688,
          0.26262626262626265,
          0,
          0,
          0,
          0.22222222222222224,
          0.17171717171717174,
          0.196969696969697,
          0.22222222222222224,
          0.18181818181818182,
          0.20202020202020204,
          0,
          0,
          0,
          0.196969696969697,
          0.17171717171717174,
          0.19191919191919193,
          0.2474747474747475,
          0.2373737373737374,
          0.21717171717171718,
          0,
          0,
          0.19191919191919193,
          0.2373737373737374,
          0.2272727272727273,
          0,
          0.19191919191919193,
          0.22222222222222224,
          0,
          0.21717171717171718,
          0.21212121212121213,
          0.21212121212121213,
          0,
          0,
          0,
          0,
          0,
          0,
          0,
          0,
          0,
          0,
          0.24242424242424243,
          0.23636363636363636,
          0.2272727272727273,
          0,
          0.2272727272727273,
          0.20202020202020204,
          0.196969696969697,
          0,
          0.2272727272727273,
          0,
          0,
          0.21212121212121213,
          0.21212121212121213,
          0.2373737373737374,
          0.9444444444444445,
          0,
          0,
          0.1767676767676768,
          0.2474747474747475,
          0.2070707070707071,
          0.2373737373737374,
          0.2676767676767677,
          0.2272727272727273,
          0.20202020202020204,
          0.20202020202020204,
          0.23232323232323235,
          0.24242424242424243,
          0.21717171717171718,
          0.21212121212121213,
          0.21212121212121213,
          0.20202020202020204,
          0.2070707070707071,
          0.2474747474747475,
          0,
          0,
          0.20202020202020204,
          0,
          0.22222222222222224,
          0,
          0.23232323232323235,
          0.22222222222222224,
          0.2373737373737374,
          0.22222222222222224,
          0.22222222222222224,
          0.21212121212121213,
          0.2373737373737374,
          0.22222222222222224,
          0.2373737373737374,
          0.21212121212121213,
          0.18181818181818182,
          0.18686868686868688,
          0,
          0,
          0.2070707070707071,
          0.2373737373737374,
          0.16161616161616163,
          0.20202020202020204,
          0.24242424242424243,
          0.26262626262626265,
          0.2373737373737374,
          0.23232323232323235,
          0,
          0.20202020202020204,
          0.19191919191919193,
          0.196969696969697,
          0.2070707070707071,
          0.24242424242424243,
          0.20202020202020204,
          0.2070707070707071,
          0.20202020202020204,
          0.2373737373737374,
          0.2272727272727273,
          0.21717171717171718,
          0.2373737373737374,
          0.2272727272727273,
          0.2070707070707071,
          0.2373737373737374,
          0.24242424242424243,
          0.2373737373737374,
          0.2272727272727273,
          0.22222222222222224,
          0.2474747474747475,
          0.23232323232323235,
          0.23232323232323235,
          0.22222222222222224,
          0.18686868686868688,
          0.21212121212121213,
          0.2676767676767677,
          0.196969696969697,
          0.22222222222222224,
          0.22222222222222224,
          0.22222222222222224,
          0.21717171717171718,
          0.22222222222222224,
          0.22222222222222224,
          0.3282828282828283,
          0.17171717171717174,
          0.21212121212121213,
          0.2373737373737374,
          0.21717171717171718,
          0.25252525252525254,
          0.2373737373737374,
          0.2373737373737374,
          0.2272727272727273,
          0.21212121212121213,
          0.2070707070707071,
          0.2272727272727273,
          0.21717171717171718,
          0.1767676767676768,
          0.25252525252525254,
          0.21717171717171718,
          0.2070707070707071,
          0.2070707070707071,
          0.2070707070707071,
          0.2373737373737374,
          0.2272727272727273,
          0.2070707070707071,
          0.2474747474747475,
          0.2575757575757576,
          0.27272727272727276,
          0.2777777777777778,
          0.2373737373737374,
          0.20202020202020204,
          0,
          0.1767676767676768,
          0.1767676767676768,
          0.2272727272727273,
          0.14141414141414144,
          0.20202020202020204,
          0.23232323232323235,
          0.2373737373737374,
          0.2070707070707071,
          0.24242424242424243,
          0.2272727272727273,
          0.1767676767676768,
          0.1767676767676768,
          0.1767676767676768,
          0.27272727272727276,
          0.1767676767676768,
          0.2373737373737374,
          0.2070707070707071,
          0.2070707070707071,
          0.1767676767676768,
          0.2070707070707071,
          0.19191919191919193,
          0.21212121212121213,
          0.2070707070707071,
          0.2373737373737374,
          0,
          0.2070707070707071,
          0.21212121212121213,
          0.20202020202020204,
          0.21212121212121213,
          0.20202020202020204,
          0.2070707070707071,
          0.20202020202020204,
          0.21212121212121213,
          0,
          0.23232323232323235,
          0.24242424242424243,
          0.21212121212121213,
          0.23232323232323235,
          0.23232323232323235,
          0.24242424242424243,
          0.23232323232323235,
          0.21212121212121213,
          0.25252525252525254,
          0.20202020202020204,
          0.37373737373737376,
          0.23232323232323235,
          0.2373737373737374,
          0.21212121212121213,
          0.20202020202020204,
          0.2373737373737374,
          0.19191919191919193,
          0.17171717171717174,
          0.196969696969697,
          0.2373737373737374,
          0.23232323232323235,
          0.2272727272727273,
          0.21212121212121213,
          0.2474747474747475,
          0.2070707070707071,
          0.2070707070707071,
          0.2373737373737374,
          0,
          0.1767676767676768,
          0.21717171717171718,
          0,
          0.2272727272727273,
          0.2272727272727273,
          0.21717171717171718,
          0.17171717171717174,
          0.21212121212121213,
          0.2373737373737374,
          0.2272727272727273,
          0.2272727272727273,
          0.2272727272727273,
          0.2373737373737374,
          0.2272727272727273,
          0.2272727272727273,
          0.2272727272727273,
          0.2272727272727273,
          0.26262626262626265,
          0.17171717171717174,
          0.17171717171717174,
          0.17171717171717174,
          0.17171717171717174,
          0.17171717171717174,
          0.17171717171717174,
          0.17171717171717174,
          0.196969696969697,
          0.2373737373737374,
          0.21212121212121213,
          0,
          0.21212121212121213,
          0.19191919191919193,
          0.17171717171717174,
          0.2070707070707071,
          0.19191919191919193,
          0.686868686868687,
          0.2272727272727273,
          0,
          0.19191919191919193,
          0.21717171717171718,
          0.22222222222222224,
          0.196969696969697,
          0.21212121212121213,
          0.17171717171717174,
          0.18686868686868688,
          0.2272727272727273,
          0.21717171717171718,
          0.24242424242424243,
          0.21717171717171718,
          0,
          0.21717171717171718,
          0.23232323232323235,
          0.25252525252525254,
          0.21717171717171718,
          0.10101010101010102,
          0.196969696969697,
          0.20202020202020204,
          0.2272727272727273,
          0.22222222222222224,
          0.21212121212121213,
          0.21212121212121213,
          0.21212121212121213,
          0.22222222222222224,
          0.2272727272727273,
          0.1767676767676768,
          0,
          0.2373737373737374,
          0.19191919191919193,
          0.19191919191919193,
          0.1767676767676768,
          0.21212121212121213,
          0,
          0,
          0.2272727272727273,
          0.20202020202020204,
          0.23232323232323235,
          0,
          0.196969696969697,
          0.196969696969697,
          0.196969696969697,
          0.18686868686868688,
          0.23232323232323235,
          0.2373737373737374,
          0.19191919191919193,
          0,
          0.23232323232323235,
          0.19191919191919193,
          0.2070707070707071,
          0.196969696969697,
          0.20202020202020204,
          0,
          0,
          0,
          0,
          0.19191919191919193,
          0,
          0,
          0,
          0,
          0,
          0,
          0.21717171717171718,
          0,
          0.18181818181818182,
          0,
          0,
          0,
          0,
          0,
          0,
          0,
          0,
          0,
          0.2373737373737374,
          0,
          0,
          0,
          0,
          0,
          0,
          0,
          0,
          0,
          0,
          0.1767676767676768,
          0,
          0.1767676767676768,
          0.1767676767676768,
          0.24242424242424243,
          0.21212121212121213,
          0.2474747474747475,
          0.2878787878787879,
          0,
          0,
          0.24242424242424243,
          1,
          0.21212121212121213,
          0.25252525252525254,
          0.2474747474747475,
          0.21212121212121213,
          0.196969696969697,
          0.21212121212121213,
          0,
          0.196969696969697,
          0,
          0.22222222222222224,
          0.22222222222222224,
          0.25252525252525254,
          0.22222222222222224,
          0.25252525252525254,
          0.23232323232323235,
          0.25252525252525254,
          0.1767676767676768,
          0.196969696969697,
          0.21212121212121213,
          0.21212121212121213,
          0.21212121212121213,
          0.22222222222222224,
          0.23232323232323235,
          0.2070707070707071,
          0.21717171717171718,
          0.20202020202020204,
          0.2272727272727273,
          0.25252525252525254,
          0,
          0.2272727272727273,
          0,
          0.2373737373737374,
          0,
          0.22222222222222224,
          0.3383838383838384,
          0.2070707070707071,
          0.20202020202020204,
          0,
          0.2272727272727273,
          0.23232323232323235,
          0.2272727272727273,
          0.2272727272727273,
          0,
          0.21212121212121213,
          0.20202020202020204,
          0.2070707070707071,
          0.2272727272727273,
          0.2070707070707071,
          0.2272727272727273,
          0.2070707070707071,
          0.21717171717171718,
          0.26262626262626265,
          0.21717171717171718,
          0.17171717171717174,
          0.23232323232323235,
          0.196969696969697,
          0.21212121212121213,
          0.22070707070707074,
          0.21717171717171718,
          0.17171717171717174,
          0,
          0.30303030303030304,
          0.2070707070707071,
          0,
          0.21717171717171718,
          0.21717171717171718,
          0.21717171717171718,
          0.23232323232323235,
          0.22222222222222224,
          0.21212121212121213,
          0.196969696969697,
          0.21717171717171718,
          0.21212121212121213,
          0.23232323232323235,
          0.23232323232323235,
          0.23232323232323235,
          0.23232323232323235,
          0.2070707070707071,
          0.2070707070707071,
          0.23232323232323235,
          0.23232323232323235,
          0.2272727272727273,
          0.23232323232323235,
          0.25252525252525254,
          0.23232323232323235,
          0.23232323232323235,
          0.23232323232323235,
          0.2272727272727273,
          0.9646464646464648,
          0.21212121212121213,
          0.21717171717171718,
          0.2676767676767677,
          0.2373737373737374,
          0.21717171717171718,
          0.21717171717171718,
          0.2272727272727273,
          0,
          0.22222222222222224,
          0.21212121212121213,
          0.22222222222222224,
          0.21717171717171718,
          0.27272727272727276,
          0.23232323232323235,
          0,
          0,
          0.43939393939393945,
          0,
          0.19191919191919193,
          0,
          0.23282828282828286,
          0.18181818181818182,
          0.18181818181818182,
          0,
          0,
          0.21717171717171718,
          0.24242424242424243,
          0.2474747474747475,
          0.25252525252525254,
          0.24242424242424243,
          0.4696969696969697,
          0.2474747474747475,
          0.2777777777777778,
          0.2676767676767677,
          0,
          0.24242424242424243,
          0.20202020202020204,
          0.196969696969697,
          0.24242424242424243,
          0.24242424242424243,
          0,
          0,
          0.05050505050505051,
          0.16666666666666669,
          0,
          0.14141414141414144,
          0,
          0.2575757575757576,
          0.2272727272727273,
          0,
          0,
          0.196969696969697,
          0.21212121212121213,
          0,
          0,
          0,
          0.196969696969697,
          0.196969696969697,
          0.08080808080808081,
          0.2373737373737374,
          0,
          0,
          0
         ]
        }
       ],
       "layout": {
        "barmode": "overlay",
        "template": {
         "data": {
          "bar": [
           {
            "error_x": {
             "color": "#2a3f5f"
            },
            "error_y": {
             "color": "#2a3f5f"
            },
            "marker": {
             "line": {
              "color": "#E5ECF6",
              "width": 0.5
             },
             "pattern": {
              "fillmode": "overlay",
              "size": 10,
              "solidity": 0.2
             }
            },
            "type": "bar"
           }
          ],
          "barpolar": [
           {
            "marker": {
             "line": {
              "color": "#E5ECF6",
              "width": 0.5
             },
             "pattern": {
              "fillmode": "overlay",
              "size": 10,
              "solidity": 0.2
             }
            },
            "type": "barpolar"
           }
          ],
          "carpet": [
           {
            "aaxis": {
             "endlinecolor": "#2a3f5f",
             "gridcolor": "white",
             "linecolor": "white",
             "minorgridcolor": "white",
             "startlinecolor": "#2a3f5f"
            },
            "baxis": {
             "endlinecolor": "#2a3f5f",
             "gridcolor": "white",
             "linecolor": "white",
             "minorgridcolor": "white",
             "startlinecolor": "#2a3f5f"
            },
            "type": "carpet"
           }
          ],
          "choropleth": [
           {
            "colorbar": {
             "outlinewidth": 0,
             "ticks": ""
            },
            "type": "choropleth"
           }
          ],
          "contour": [
           {
            "colorbar": {
             "outlinewidth": 0,
             "ticks": ""
            },
            "colorscale": [
             [
              0,
              "#0d0887"
             ],
             [
              0.1111111111111111,
              "#46039f"
             ],
             [
              0.2222222222222222,
              "#7201a8"
             ],
             [
              0.3333333333333333,
              "#9c179e"
             ],
             [
              0.4444444444444444,
              "#bd3786"
             ],
             [
              0.5555555555555556,
              "#d8576b"
             ],
             [
              0.6666666666666666,
              "#ed7953"
             ],
             [
              0.7777777777777778,
              "#fb9f3a"
             ],
             [
              0.8888888888888888,
              "#fdca26"
             ],
             [
              1,
              "#f0f921"
             ]
            ],
            "type": "contour"
           }
          ],
          "contourcarpet": [
           {
            "colorbar": {
             "outlinewidth": 0,
             "ticks": ""
            },
            "type": "contourcarpet"
           }
          ],
          "heatmap": [
           {
            "colorbar": {
             "outlinewidth": 0,
             "ticks": ""
            },
            "colorscale": [
             [
              0,
              "#0d0887"
             ],
             [
              0.1111111111111111,
              "#46039f"
             ],
             [
              0.2222222222222222,
              "#7201a8"
             ],
             [
              0.3333333333333333,
              "#9c179e"
             ],
             [
              0.4444444444444444,
              "#bd3786"
             ],
             [
              0.5555555555555556,
              "#d8576b"
             ],
             [
              0.6666666666666666,
              "#ed7953"
             ],
             [
              0.7777777777777778,
              "#fb9f3a"
             ],
             [
              0.8888888888888888,
              "#fdca26"
             ],
             [
              1,
              "#f0f921"
             ]
            ],
            "type": "heatmap"
           }
          ],
          "heatmapgl": [
           {
            "colorbar": {
             "outlinewidth": 0,
             "ticks": ""
            },
            "colorscale": [
             [
              0,
              "#0d0887"
             ],
             [
              0.1111111111111111,
              "#46039f"
             ],
             [
              0.2222222222222222,
              "#7201a8"
             ],
             [
              0.3333333333333333,
              "#9c179e"
             ],
             [
              0.4444444444444444,
              "#bd3786"
             ],
             [
              0.5555555555555556,
              "#d8576b"
             ],
             [
              0.6666666666666666,
              "#ed7953"
             ],
             [
              0.7777777777777778,
              "#fb9f3a"
             ],
             [
              0.8888888888888888,
              "#fdca26"
             ],
             [
              1,
              "#f0f921"
             ]
            ],
            "type": "heatmapgl"
           }
          ],
          "histogram": [
           {
            "marker": {
             "pattern": {
              "fillmode": "overlay",
              "size": 10,
              "solidity": 0.2
             }
            },
            "type": "histogram"
           }
          ],
          "histogram2d": [
           {
            "colorbar": {
             "outlinewidth": 0,
             "ticks": ""
            },
            "colorscale": [
             [
              0,
              "#0d0887"
             ],
             [
              0.1111111111111111,
              "#46039f"
             ],
             [
              0.2222222222222222,
              "#7201a8"
             ],
             [
              0.3333333333333333,
              "#9c179e"
             ],
             [
              0.4444444444444444,
              "#bd3786"
             ],
             [
              0.5555555555555556,
              "#d8576b"
             ],
             [
              0.6666666666666666,
              "#ed7953"
             ],
             [
              0.7777777777777778,
              "#fb9f3a"
             ],
             [
              0.8888888888888888,
              "#fdca26"
             ],
             [
              1,
              "#f0f921"
             ]
            ],
            "type": "histogram2d"
           }
          ],
          "histogram2dcontour": [
           {
            "colorbar": {
             "outlinewidth": 0,
             "ticks": ""
            },
            "colorscale": [
             [
              0,
              "#0d0887"
             ],
             [
              0.1111111111111111,
              "#46039f"
             ],
             [
              0.2222222222222222,
              "#7201a8"
             ],
             [
              0.3333333333333333,
              "#9c179e"
             ],
             [
              0.4444444444444444,
              "#bd3786"
             ],
             [
              0.5555555555555556,
              "#d8576b"
             ],
             [
              0.6666666666666666,
              "#ed7953"
             ],
             [
              0.7777777777777778,
              "#fb9f3a"
             ],
             [
              0.8888888888888888,
              "#fdca26"
             ],
             [
              1,
              "#f0f921"
             ]
            ],
            "type": "histogram2dcontour"
           }
          ],
          "mesh3d": [
           {
            "colorbar": {
             "outlinewidth": 0,
             "ticks": ""
            },
            "type": "mesh3d"
           }
          ],
          "parcoords": [
           {
            "line": {
             "colorbar": {
              "outlinewidth": 0,
              "ticks": ""
             }
            },
            "type": "parcoords"
           }
          ],
          "pie": [
           {
            "automargin": true,
            "type": "pie"
           }
          ],
          "scatter": [
           {
            "marker": {
             "colorbar": {
              "outlinewidth": 0,
              "ticks": ""
             }
            },
            "type": "scatter"
           }
          ],
          "scatter3d": [
           {
            "line": {
             "colorbar": {
              "outlinewidth": 0,
              "ticks": ""
             }
            },
            "marker": {
             "colorbar": {
              "outlinewidth": 0,
              "ticks": ""
             }
            },
            "type": "scatter3d"
           }
          ],
          "scattercarpet": [
           {
            "marker": {
             "colorbar": {
              "outlinewidth": 0,
              "ticks": ""
             }
            },
            "type": "scattercarpet"
           }
          ],
          "scattergeo": [
           {
            "marker": {
             "colorbar": {
              "outlinewidth": 0,
              "ticks": ""
             }
            },
            "type": "scattergeo"
           }
          ],
          "scattergl": [
           {
            "marker": {
             "colorbar": {
              "outlinewidth": 0,
              "ticks": ""
             }
            },
            "type": "scattergl"
           }
          ],
          "scattermapbox": [
           {
            "marker": {
             "colorbar": {
              "outlinewidth": 0,
              "ticks": ""
             }
            },
            "type": "scattermapbox"
           }
          ],
          "scatterpolar": [
           {
            "marker": {
             "colorbar": {
              "outlinewidth": 0,
              "ticks": ""
             }
            },
            "type": "scatterpolar"
           }
          ],
          "scatterpolargl": [
           {
            "marker": {
             "colorbar": {
              "outlinewidth": 0,
              "ticks": ""
             }
            },
            "type": "scatterpolargl"
           }
          ],
          "scatterternary": [
           {
            "marker": {
             "colorbar": {
              "outlinewidth": 0,
              "ticks": ""
             }
            },
            "type": "scatterternary"
           }
          ],
          "surface": [
           {
            "colorbar": {
             "outlinewidth": 0,
             "ticks": ""
            },
            "colorscale": [
             [
              0,
              "#0d0887"
             ],
             [
              0.1111111111111111,
              "#46039f"
             ],
             [
              0.2222222222222222,
              "#7201a8"
             ],
             [
              0.3333333333333333,
              "#9c179e"
             ],
             [
              0.4444444444444444,
              "#bd3786"
             ],
             [
              0.5555555555555556,
              "#d8576b"
             ],
             [
              0.6666666666666666,
              "#ed7953"
             ],
             [
              0.7777777777777778,
              "#fb9f3a"
             ],
             [
              0.8888888888888888,
              "#fdca26"
             ],
             [
              1,
              "#f0f921"
             ]
            ],
            "type": "surface"
           }
          ],
          "table": [
           {
            "cells": {
             "fill": {
              "color": "#EBF0F8"
             },
             "line": {
              "color": "white"
             }
            },
            "header": {
             "fill": {
              "color": "#C8D4E3"
             },
             "line": {
              "color": "white"
             }
            },
            "type": "table"
           }
          ]
         },
         "layout": {
          "annotationdefaults": {
           "arrowcolor": "#2a3f5f",
           "arrowhead": 0,
           "arrowwidth": 1
          },
          "autotypenumbers": "strict",
          "coloraxis": {
           "colorbar": {
            "outlinewidth": 0,
            "ticks": ""
           }
          },
          "colorscale": {
           "diverging": [
            [
             0,
             "#8e0152"
            ],
            [
             0.1,
             "#c51b7d"
            ],
            [
             0.2,
             "#de77ae"
            ],
            [
             0.3,
             "#f1b6da"
            ],
            [
             0.4,
             "#fde0ef"
            ],
            [
             0.5,
             "#f7f7f7"
            ],
            [
             0.6,
             "#e6f5d0"
            ],
            [
             0.7,
             "#b8e186"
            ],
            [
             0.8,
             "#7fbc41"
            ],
            [
             0.9,
             "#4d9221"
            ],
            [
             1,
             "#276419"
            ]
           ],
           "sequential": [
            [
             0,
             "#0d0887"
            ],
            [
             0.1111111111111111,
             "#46039f"
            ],
            [
             0.2222222222222222,
             "#7201a8"
            ],
            [
             0.3333333333333333,
             "#9c179e"
            ],
            [
             0.4444444444444444,
             "#bd3786"
            ],
            [
             0.5555555555555556,
             "#d8576b"
            ],
            [
             0.6666666666666666,
             "#ed7953"
            ],
            [
             0.7777777777777778,
             "#fb9f3a"
            ],
            [
             0.8888888888888888,
             "#fdca26"
            ],
            [
             1,
             "#f0f921"
            ]
           ],
           "sequentialminus": [
            [
             0,
             "#0d0887"
            ],
            [
             0.1111111111111111,
             "#46039f"
            ],
            [
             0.2222222222222222,
             "#7201a8"
            ],
            [
             0.3333333333333333,
             "#9c179e"
            ],
            [
             0.4444444444444444,
             "#bd3786"
            ],
            [
             0.5555555555555556,
             "#d8576b"
            ],
            [
             0.6666666666666666,
             "#ed7953"
            ],
            [
             0.7777777777777778,
             "#fb9f3a"
            ],
            [
             0.8888888888888888,
             "#fdca26"
            ],
            [
             1,
             "#f0f921"
            ]
           ]
          },
          "colorway": [
           "#636efa",
           "#EF553B",
           "#00cc96",
           "#ab63fa",
           "#FFA15A",
           "#19d3f3",
           "#FF6692",
           "#B6E880",
           "#FF97FF",
           "#FECB52"
          ],
          "font": {
           "color": "#2a3f5f"
          },
          "geo": {
           "bgcolor": "white",
           "lakecolor": "white",
           "landcolor": "#E5ECF6",
           "showlakes": true,
           "showland": true,
           "subunitcolor": "white"
          },
          "hoverlabel": {
           "align": "left"
          },
          "hovermode": "closest",
          "mapbox": {
           "style": "light"
          },
          "paper_bgcolor": "white",
          "plot_bgcolor": "#E5ECF6",
          "polar": {
           "angularaxis": {
            "gridcolor": "white",
            "linecolor": "white",
            "ticks": ""
           },
           "bgcolor": "#E5ECF6",
           "radialaxis": {
            "gridcolor": "white",
            "linecolor": "white",
            "ticks": ""
           }
          },
          "scene": {
           "xaxis": {
            "backgroundcolor": "#E5ECF6",
            "gridcolor": "white",
            "gridwidth": 2,
            "linecolor": "white",
            "showbackground": true,
            "ticks": "",
            "zerolinecolor": "white"
           },
           "yaxis": {
            "backgroundcolor": "#E5ECF6",
            "gridcolor": "white",
            "gridwidth": 2,
            "linecolor": "white",
            "showbackground": true,
            "ticks": "",
            "zerolinecolor": "white"
           },
           "zaxis": {
            "backgroundcolor": "#E5ECF6",
            "gridcolor": "white",
            "gridwidth": 2,
            "linecolor": "white",
            "showbackground": true,
            "ticks": "",
            "zerolinecolor": "white"
           }
          },
          "shapedefaults": {
           "line": {
            "color": "#2a3f5f"
           }
          },
          "ternary": {
           "aaxis": {
            "gridcolor": "white",
            "linecolor": "white",
            "ticks": ""
           },
           "baxis": {
            "gridcolor": "white",
            "linecolor": "white",
            "ticks": ""
           },
           "bgcolor": "#E5ECF6",
           "caxis": {
            "gridcolor": "white",
            "linecolor": "white",
            "ticks": ""
           }
          },
          "title": {
           "x": 0.05
          },
          "xaxis": {
           "automargin": true,
           "gridcolor": "white",
           "linecolor": "white",
           "ticks": "",
           "title": {
            "standoff": 15
           },
           "zerolinecolor": "white",
           "zerolinewidth": 2
          },
          "yaxis": {
           "automargin": true,
           "gridcolor": "white",
           "linecolor": "white",
           "ticks": "",
           "title": {
            "standoff": 15
           },
           "zerolinecolor": "white",
           "zerolinewidth": 2
          }
         }
        },
        "title": {
         "text": "Ratio sucre / kilocalorie"
        },
        "xaxis": {
         "title": {
          "text": "Ratio sucre / kcal"
         }
        },
        "yaxis": {
         "title": {
          "text": "Nombres"
         }
        }
       }
      },
      "text/html": [
       "<div>                            <div id=\"014cf8bf-6089-4f59-b97b-a7ef4908c3c9\" class=\"plotly-graph-div\" style=\"height:525px; width:100%;\"></div>            <script type=\"text/javascript\">                require([\"plotly\"], function(Plotly) {                    window.PLOTLYENV=window.PLOTLYENV || {};                                    if (document.getElementById(\"014cf8bf-6089-4f59-b97b-a7ef4908c3c9\")) {                    Plotly.newPlot(                        \"014cf8bf-6089-4f59-b97b-a7ef4908c3c9\",                        [{\"marker\":{\"color\":\"rgba(171, 50, 96, 0.6)\"},\"name\":\"Sucre\",\"opacity\":0.75,\"type\":\"histogram\",\"x\":[0.15806988352745424,0.129783693843594,0.008319467554076539,0.0,0.14975041597337768,0.0,0.16638935108153077,0.14309484193011646,0.2828618968386023,0.16638935108153077,0.129783693843594,0.15640599001663893,0.0,0.0,0.0,0.14475873544093176,0.14309484193011646,0.14475873544093176,0.17970049916805325,0.18302828618968386,0.14975041597337768,0.0,0.0,0.151414309484193,0.16638935108153077,0.1464226289517471,0.0,0.14975041597337768,0.15806988352745424,0.0,0.15640599001663893,0.14309484193011646,0.14475873544093176,0.0,0.0,0.0,0.0,0.0,0.0,0.0,0.0,0.0,0.0,0.16472545757071547,0.18302828618968386,0.1747088186356073,0.0,0.16638935108153077,0.14475873544093176,0.1530782029950083,0.0,0.16805324459234608,0.0,0.0,0.16638935108153077,0.15806988352745424,0.16638935108153077,0.14475873544093176,0.0,0.0,0.13643926788685523,1.0,0.14475873544093176,0.15806988352745424,0.21630615640599,0.15474209650582363,0.013311148086522463,0.009983361461595008,0.13311148086522462,0.14975041597337768,0.1530782029950083,0.16638935108153077,0.15640599001663893,0.151414309484193,0.14975041597337768,0.18302828618968386,0.0,0.0,0.14475873544093176,0.0,0.14475873544093176,0.14475873544093176,0.15806988352745424,0.14475873544093176,0.16971713810316139,0.14475873544093176,0.14475873544093176,0.13643926788685523,0.1697171349295341,0.14475873544093176,0.15806988352745424,0.14475873544093176,0.11980033277870215,0.12312811980033278,0.0,0.0,0.13976705490848584,0.16638935108153077,0.13477537437603992,0.14975041597337768,0.18302828618968386,0.21630615640599,0.16638935108153077,0.16638935108153077,0.15474209650582363,0.16638935108153077,0.14475873544093176,0.13643926788685523,0.14475873544093176,0.0,0.14475873544093176,0.14143094841930115,0.151414309484193,0.18302828618968386,0.1747088186356073,0.14143094841930115,0.16638935108153077,0.1464226289517471,0.14143094841930115,0.16638935108153077,0.15806988352745424,0.15640599001663893,0.1464226289517471,0.16638935108153077,0.14309484193011646,0.16306156405990016,0.16306156405990016,0.1530782029950083,0.13810316139767057,0.14475873544093176,0.1913477537437604,0.15640599001663893,0.14475873544093176,0.14975041597337768,0.14975041597337768,0.16139767054908483,0.14975041597337768,0.14143094841930115,0.24958402662229617,0.13643926788685523,0.16638935108153077,0.18302828618968386,0.14143094841930115,0.18302828618968386,0.14975041597337768,0.14975041597337768,0.15973377703826955,0.14475873544093176,0.14475873544093176,0.16638935108153077,0.13311148086522462,0.13477537437603992,0.18302828618968386,0.13311148086522462,0.14475873544093176,0.14475873544093176,0.14475873544093176,0.15806988352745424,0.15640599001663893,0.14475873544093176,0.16472545757071547,0.17138103161397672,0.18136439267886856,0.18469217970049914,0.15806988352745424,0.14975041597337768,0.18635607321131445,0.13477537437603992,0.13477537437603992,0.14475873544093176,0.1064891846921797,0.13477537437603992,0.18302828618968386,0.15806988352745424,0.14475873544093176,0.18302828618968386,0.14475873544093176,0.13477537437603992,0.13477537437603992,0.13477537437603992,0.13477537437603992,0.13477537437603992,0.15806988352745424,0.14475873544093176,0.14475873544093176,0.13477537437603992,0.14475873544093176,0.14475873544093176,0.14475873544093176,0.14475873226730615,0.15806988352745424,0.14475873544093176,0.14475873544093176,0.14475873544093176,0.14475873544093176,0.14475873544093176,0.14475873226730615,0.14475873544093176,0.14475873226730615,0.14475873544093176,0.1281198003327787,0.16638935108153077,0.15806988352745424,0.15640599001663893,0.14975041597337768,0.14975041597337768,0.14975041597337768,0.16638935108153077,0.16638935108153077,0.16805324459234608,0.14475873544093176,0.16638935108153077,0.16971713810316139,0.16638935108153077,0.15640598366938935,0.1347753807232895,0.15474209650582363,0.13810316139767057,0.14143094841930115,0.151414309484193,0.16638935108153077,0.14975041597337768,0.14975041597337768,0.173044925124792,0.15806988352745424,0.13810316139767057,0.13810316139767057,0.16638935108153077,0.14975041597337768,0.13311148086522462,0.14143094841930115,0.15474209650582363,0.14975041597337768,0.15640599001663893,0.14975041597337768,0.14309484193011646,0.129783693843594,0.1464226289517471,0.14143094841930115,0.14143094841930115,0.13311148086522462,0.13311148086522462,0.13311148086522462,0.13311148086522462,0.13311148086522462,0.13311148086522462,0.0,0.14309484193011646,0.14975041597337768,0.14975041597337768,0.14309484193011646,0.14309484193011646,0.14309484193011646,0.14975041597337768,0.13144758894122127,0.1364392647132296,0.1281198003327787,0.0,0.14475873544093176,0.14975041597337768,0.13976705490848584,0.1314475873544093,0.14475873544093176,0.3494176372712146,0.14143094841930115,0.0,0.11647254575707154,0.1464226289517471,0.1530782029950083,0.1281198003327787,0.1464226289517471,0.14143094841930115,0.129783693843594,0.15474209650582363,0.1530782029950083,0.16638935108153077,0.14309484193011646,0.0,0.14309484193011646,0.13311148086522462,0.16638935108153077,0.16638935108153077,0.07986688851913477,0.13643926788685523,0.14475873544093176,0.15474209650582363,0.15307819982138268,0.15973378338551913,0.15474209650582363,0.15474209650582363,0.14143094841930115,0.15973378338551913,0.13810316457129618,0.0,0.13976705490848584,0.14475873226730615,0.14975041597337768,0.13477537437603992,0.08485856905158069,0.0,0.0,0.13311148086522462,0.14975041597337768,0.151414309484193,0.0,0.14475873544093176,0.14475873544093176,0.14975041597337768,0.13976705490848584,0.16971713810316139,0.1464226289517471,0.14975041597337768,0.0,0.18302828618968386,0.14475873544093176,0.14475873544093176,0.14475873544093176,0.14975041597337768,0.15806988352745424,0.0,0.0,0.14475873544093176,0.14475873226730615,0.0,0.15474209650582363,0.14475873544093176,0.14475873544093176,0.14475873544093176,0.14475873544093176,0.16139767054908483,0.0,0.13810316139767057,0.1480865224625624,0.14975041597337768,0.16306156405990016,0.18302828618968386,0.14475873544093176,0.16139767054908483,0.14975041597337768,0.18302828618968386,0.15474209650582363,0.18302828618968386,0.18302828618968386,0.0,0.15806988352745424,0.14475873544093176,0.0,0.18302828618968386,0.16638935108153077,0.0,0.16638935108153077,0.18302828618968386,0.1264559068219634,0.0,0.13477537437603992,0.13477537437603992,0.15474209967944924,0.14475873544093176,0.18801996672212978,0.1963394374498336,0.0,0.0,0.18302828618968386,0.1763727184936772,0.14475873544093176,0.16971713810316139,0.16638935108153077,0.14475873544093176,0.14475873544093176,0.14475873226730615,0.21630615640599,0.14475873544093176,0.0,0.14475873544093176,0.1480865224625624,0.16638935108153077,0.15806988352745424,0.16638935108153077,0.16638935108153077,0.16638935108153077,0.12479201331114809,0.14475873544093176,0.14475873544093176,0.14475873544093176,0.14475873544093176,0.13477537437603992,0.173044925124792,0.151414309484193,0.15640599001663893,0.151414309484193,0.16638935108153077,0.16638935108153077,0.0,0.15474209650582363,0.0,0.13178036605657237,0.0,0.16638935108153077,0.19633943427620631,0.14475873544093176,0.14475873544093176,0.0,0.16638935108153077,0.13311148086522462,0.14475873226730615,0.16638935108153077,0.0,0.15973377703826955,0.14475873544093176,0.14475873544093176,0.16139767054908483,0.14475873544093176,0.16139767054908483,0.16638935108153077,0.14975041597337768,0.16638935108153077,0.1480865224625624,0.14309484193011646,0.16638935108153077,0.14475873544093176,0.14475873226730615,0.1480865224625624,0.1480865224625624,0.06988352745424292,0.0,0.21630615640599,0.12312811980033278,0.0,0.14975041597337768,0.14975041597337768,0.14975041597337768,0.13311148086522462,0.13311148086522462,0.14475873544093176,0.14475873226730615,0.14975041597337768,0.16805324459234608,0.16638935108153077,0.16638935108153077,0.16638935108153077,0.16638935108153077,0.14475873226730615,0.14475873544093176,0.16638935108153077,0.16638935108153077,0.16638935108153077,0.1464226289517471,0.16638935108153077,0.18302828618968386,0.18302828618968386,0.18302828618968386,0.1594009983361065,0.1594009983361065,0.14475873544093176,0.15474209650582363,0.1530782029950083,0.1314475873544093,0.14975041597337768,0.14975041597337768,0.13311148086522462,0.0,0.14975041597337768,0.14975041597337768,0.14975041597337768,0.1530782029950083,0.12479201331114809,0.15973377703826955,0.0,0.0,0.32279534109816965,0.0,0.13643926788685523,0.14143094841930115,0.13643926788685523,0.129783693843594,0.129783693843594,0.18302828618968386,0.0,0.15640599001663893,0.16638935108153077,0.16638935108153077,0.18635607321131445,0.19966722129783693,0.27687188019966724,0.18302828618968386,0.1763727121464226,0.09983361064891846,0.0,0.0,0.14475873544093176,0.14475873544093176,0.0,0.0,0.0,0.0,0.036605657237936774,0.09484193011647254,0.0,0.1098169717138103,0.0,0.20965058236272877,0.15973377703826955,0.0,0.0,0.13311148086522462,0.1264559068219634,0.1747088186356073,0.14975041597337768,0.0,0.15806988352745424,0.15640598366938935,0.36605657237936773,0.15474209650582363,0.0,0.0,0.0]},{\"marker\":{\"color\":\"rgba(12, 50, 196, 0.6)\"},\"name\":\"Kcal\",\"opacity\":0.75,\"type\":\"histogram\",\"x\":[0.23232323232323235,0.18686868686868688,0.26262626262626265,0.0,0.0,0.0,0.22222222222222224,0.17171717171717174,0.196969696969697,0.22222222222222224,0.18181818181818182,0.20202020202020204,0.0,0.0,0.0,0.196969696969697,0.17171717171717174,0.19191919191919193,0.2474747474747475,0.2373737373737374,0.21717171717171718,0.0,0.0,0.19191919191919193,0.2373737373737374,0.2272727272727273,0.0,0.19191919191919193,0.22222222222222224,0.0,0.21717171717171718,0.21212121212121213,0.21212121212121213,0.0,0.0,0.0,0.0,0.0,0.0,0.0,0.0,0.0,0.0,0.24242424242424243,0.23636363636363636,0.2272727272727273,0.0,0.2272727272727273,0.20202020202020204,0.196969696969697,0.0,0.2272727272727273,0.0,0.0,0.21212121212121213,0.21212121212121213,0.2373737373737374,0.9444444444444445,0.0,0.0,0.1767676767676768,0.2474747474747475,0.2070707070707071,0.2373737373737374,0.2676767676767677,0.2272727272727273,0.20202020202020204,0.20202020202020204,0.23232323232323235,0.24242424242424243,0.21717171717171718,0.21212121212121213,0.21212121212121213,0.20202020202020204,0.2070707070707071,0.2474747474747475,0.0,0.0,0.20202020202020204,0.0,0.22222222222222224,0.0,0.23232323232323235,0.22222222222222224,0.2373737373737374,0.22222222222222224,0.22222222222222224,0.21212121212121213,0.2373737373737374,0.22222222222222224,0.2373737373737374,0.21212121212121213,0.18181818181818182,0.18686868686868688,0.0,0.0,0.2070707070707071,0.2373737373737374,0.16161616161616163,0.20202020202020204,0.24242424242424243,0.26262626262626265,0.2373737373737374,0.23232323232323235,0.0,0.20202020202020204,0.19191919191919193,0.196969696969697,0.2070707070707071,0.24242424242424243,0.20202020202020204,0.2070707070707071,0.20202020202020204,0.2373737373737374,0.2272727272727273,0.21717171717171718,0.2373737373737374,0.2272727272727273,0.2070707070707071,0.2373737373737374,0.24242424242424243,0.2373737373737374,0.2272727272727273,0.22222222222222224,0.2474747474747475,0.23232323232323235,0.23232323232323235,0.22222222222222224,0.18686868686868688,0.21212121212121213,0.2676767676767677,0.196969696969697,0.22222222222222224,0.22222222222222224,0.22222222222222224,0.21717171717171718,0.22222222222222224,0.22222222222222224,0.3282828282828283,0.17171717171717174,0.21212121212121213,0.2373737373737374,0.21717171717171718,0.25252525252525254,0.2373737373737374,0.2373737373737374,0.2272727272727273,0.21212121212121213,0.2070707070707071,0.2272727272727273,0.21717171717171718,0.1767676767676768,0.25252525252525254,0.21717171717171718,0.2070707070707071,0.2070707070707071,0.2070707070707071,0.2373737373737374,0.2272727272727273,0.2070707070707071,0.2474747474747475,0.2575757575757576,0.27272727272727276,0.2777777777777778,0.2373737373737374,0.20202020202020204,0.0,0.1767676767676768,0.1767676767676768,0.2272727272727273,0.14141414141414144,0.20202020202020204,0.23232323232323235,0.2373737373737374,0.2070707070707071,0.24242424242424243,0.2272727272727273,0.1767676767676768,0.1767676767676768,0.1767676767676768,0.27272727272727276,0.1767676767676768,0.2373737373737374,0.2070707070707071,0.2070707070707071,0.1767676767676768,0.2070707070707071,0.19191919191919193,0.21212121212121213,0.2070707070707071,0.2373737373737374,0.0,0.2070707070707071,0.21212121212121213,0.20202020202020204,0.21212121212121213,0.20202020202020204,0.2070707070707071,0.20202020202020204,0.21212121212121213,0.0,0.23232323232323235,0.24242424242424243,0.21212121212121213,0.23232323232323235,0.23232323232323235,0.24242424242424243,0.23232323232323235,0.21212121212121213,0.25252525252525254,0.20202020202020204,0.37373737373737376,0.23232323232323235,0.2373737373737374,0.21212121212121213,0.20202020202020204,0.2373737373737374,0.19191919191919193,0.17171717171717174,0.196969696969697,0.2373737373737374,0.23232323232323235,0.2272727272727273,0.21212121212121213,0.2474747474747475,0.2070707070707071,0.2070707070707071,0.2373737373737374,0.0,0.1767676767676768,0.21717171717171718,0.0,0.2272727272727273,0.2272727272727273,0.21717171717171718,0.17171717171717174,0.21212121212121213,0.2373737373737374,0.2272727272727273,0.2272727272727273,0.2272727272727273,0.2373737373737374,0.2272727272727273,0.2272727272727273,0.2272727272727273,0.2272727272727273,0.26262626262626265,0.17171717171717174,0.17171717171717174,0.17171717171717174,0.17171717171717174,0.17171717171717174,0.17171717171717174,0.17171717171717174,0.196969696969697,0.2373737373737374,0.21212121212121213,0.0,0.21212121212121213,0.19191919191919193,0.17171717171717174,0.2070707070707071,0.19191919191919193,0.686868686868687,0.2272727272727273,0.0,0.19191919191919193,0.21717171717171718,0.22222222222222224,0.196969696969697,0.21212121212121213,0.17171717171717174,0.18686868686868688,0.2272727272727273,0.21717171717171718,0.24242424242424243,0.21717171717171718,0.0,0.21717171717171718,0.23232323232323235,0.25252525252525254,0.21717171717171718,0.10101010101010102,0.196969696969697,0.20202020202020204,0.2272727272727273,0.22222222222222224,0.21212121212121213,0.21212121212121213,0.21212121212121213,0.22222222222222224,0.2272727272727273,0.1767676767676768,0.0,0.2373737373737374,0.19191919191919193,0.19191919191919193,0.1767676767676768,0.21212121212121213,0.0,0.0,0.2272727272727273,0.20202020202020204,0.23232323232323235,0.0,0.196969696969697,0.196969696969697,0.196969696969697,0.18686868686868688,0.23232323232323235,0.2373737373737374,0.19191919191919193,0.0,0.23232323232323235,0.19191919191919193,0.2070707070707071,0.196969696969697,0.20202020202020204,0.0,0.0,0.0,0.0,0.19191919191919193,0.0,0.0,0.0,0.0,0.0,0.0,0.21717171717171718,0.0,0.18181818181818182,0.0,0.0,0.0,0.0,0.0,0.0,0.0,0.0,0.0,0.2373737373737374,0.0,0.0,0.0,0.0,0.0,0.0,0.0,0.0,0.0,0.0,0.1767676767676768,0.0,0.1767676767676768,0.1767676767676768,0.24242424242424243,0.21212121212121213,0.2474747474747475,0.2878787878787879,0.0,0.0,0.24242424242424243,1.0,0.21212121212121213,0.25252525252525254,0.2474747474747475,0.21212121212121213,0.196969696969697,0.21212121212121213,0.0,0.196969696969697,0.0,0.22222222222222224,0.22222222222222224,0.25252525252525254,0.22222222222222224,0.25252525252525254,0.23232323232323235,0.25252525252525254,0.1767676767676768,0.196969696969697,0.21212121212121213,0.21212121212121213,0.21212121212121213,0.22222222222222224,0.23232323232323235,0.2070707070707071,0.21717171717171718,0.20202020202020204,0.2272727272727273,0.25252525252525254,0.0,0.2272727272727273,0.0,0.2373737373737374,0.0,0.22222222222222224,0.3383838383838384,0.2070707070707071,0.20202020202020204,0.0,0.2272727272727273,0.23232323232323235,0.2272727272727273,0.2272727272727273,0.0,0.21212121212121213,0.20202020202020204,0.2070707070707071,0.2272727272727273,0.2070707070707071,0.2272727272727273,0.2070707070707071,0.21717171717171718,0.26262626262626265,0.21717171717171718,0.17171717171717174,0.23232323232323235,0.196969696969697,0.21212121212121213,0.22070707070707074,0.21717171717171718,0.17171717171717174,0.0,0.30303030303030304,0.2070707070707071,0.0,0.21717171717171718,0.21717171717171718,0.21717171717171718,0.23232323232323235,0.22222222222222224,0.21212121212121213,0.196969696969697,0.21717171717171718,0.21212121212121213,0.23232323232323235,0.23232323232323235,0.23232323232323235,0.23232323232323235,0.2070707070707071,0.2070707070707071,0.23232323232323235,0.23232323232323235,0.2272727272727273,0.23232323232323235,0.25252525252525254,0.23232323232323235,0.23232323232323235,0.23232323232323235,0.2272727272727273,0.9646464646464648,0.21212121212121213,0.21717171717171718,0.2676767676767677,0.2373737373737374,0.21717171717171718,0.21717171717171718,0.2272727272727273,0.0,0.22222222222222224,0.21212121212121213,0.22222222222222224,0.21717171717171718,0.27272727272727276,0.23232323232323235,0.0,0.0,0.43939393939393945,0.0,0.19191919191919193,0.0,0.23282828282828286,0.18181818181818182,0.18181818181818182,0.0,0.0,0.21717171717171718,0.24242424242424243,0.2474747474747475,0.25252525252525254,0.24242424242424243,0.4696969696969697,0.2474747474747475,0.2777777777777778,0.2676767676767677,0.0,0.24242424242424243,0.20202020202020204,0.196969696969697,0.24242424242424243,0.24242424242424243,0.0,0.0,0.05050505050505051,0.16666666666666669,0.0,0.14141414141414144,0.0,0.2575757575757576,0.2272727272727273,0.0,0.0,0.196969696969697,0.21212121212121213,0.0,0.0,0.0,0.196969696969697,0.196969696969697,0.08080808080808081,0.2373737373737374,0.0,0.0,0.0]}],                        {\"barmode\":\"overlay\",\"template\":{\"data\":{\"bar\":[{\"error_x\":{\"color\":\"#2a3f5f\"},\"error_y\":{\"color\":\"#2a3f5f\"},\"marker\":{\"line\":{\"color\":\"#E5ECF6\",\"width\":0.5},\"pattern\":{\"fillmode\":\"overlay\",\"size\":10,\"solidity\":0.2}},\"type\":\"bar\"}],\"barpolar\":[{\"marker\":{\"line\":{\"color\":\"#E5ECF6\",\"width\":0.5},\"pattern\":{\"fillmode\":\"overlay\",\"size\":10,\"solidity\":0.2}},\"type\":\"barpolar\"}],\"carpet\":[{\"aaxis\":{\"endlinecolor\":\"#2a3f5f\",\"gridcolor\":\"white\",\"linecolor\":\"white\",\"minorgridcolor\":\"white\",\"startlinecolor\":\"#2a3f5f\"},\"baxis\":{\"endlinecolor\":\"#2a3f5f\",\"gridcolor\":\"white\",\"linecolor\":\"white\",\"minorgridcolor\":\"white\",\"startlinecolor\":\"#2a3f5f\"},\"type\":\"carpet\"}],\"choropleth\":[{\"colorbar\":{\"outlinewidth\":0,\"ticks\":\"\"},\"type\":\"choropleth\"}],\"contour\":[{\"colorbar\":{\"outlinewidth\":0,\"ticks\":\"\"},\"colorscale\":[[0.0,\"#0d0887\"],[0.1111111111111111,\"#46039f\"],[0.2222222222222222,\"#7201a8\"],[0.3333333333333333,\"#9c179e\"],[0.4444444444444444,\"#bd3786\"],[0.5555555555555556,\"#d8576b\"],[0.6666666666666666,\"#ed7953\"],[0.7777777777777778,\"#fb9f3a\"],[0.8888888888888888,\"#fdca26\"],[1.0,\"#f0f921\"]],\"type\":\"contour\"}],\"contourcarpet\":[{\"colorbar\":{\"outlinewidth\":0,\"ticks\":\"\"},\"type\":\"contourcarpet\"}],\"heatmap\":[{\"colorbar\":{\"outlinewidth\":0,\"ticks\":\"\"},\"colorscale\":[[0.0,\"#0d0887\"],[0.1111111111111111,\"#46039f\"],[0.2222222222222222,\"#7201a8\"],[0.3333333333333333,\"#9c179e\"],[0.4444444444444444,\"#bd3786\"],[0.5555555555555556,\"#d8576b\"],[0.6666666666666666,\"#ed7953\"],[0.7777777777777778,\"#fb9f3a\"],[0.8888888888888888,\"#fdca26\"],[1.0,\"#f0f921\"]],\"type\":\"heatmap\"}],\"heatmapgl\":[{\"colorbar\":{\"outlinewidth\":0,\"ticks\":\"\"},\"colorscale\":[[0.0,\"#0d0887\"],[0.1111111111111111,\"#46039f\"],[0.2222222222222222,\"#7201a8\"],[0.3333333333333333,\"#9c179e\"],[0.4444444444444444,\"#bd3786\"],[0.5555555555555556,\"#d8576b\"],[0.6666666666666666,\"#ed7953\"],[0.7777777777777778,\"#fb9f3a\"],[0.8888888888888888,\"#fdca26\"],[1.0,\"#f0f921\"]],\"type\":\"heatmapgl\"}],\"histogram\":[{\"marker\":{\"pattern\":{\"fillmode\":\"overlay\",\"size\":10,\"solidity\":0.2}},\"type\":\"histogram\"}],\"histogram2d\":[{\"colorbar\":{\"outlinewidth\":0,\"ticks\":\"\"},\"colorscale\":[[0.0,\"#0d0887\"],[0.1111111111111111,\"#46039f\"],[0.2222222222222222,\"#7201a8\"],[0.3333333333333333,\"#9c179e\"],[0.4444444444444444,\"#bd3786\"],[0.5555555555555556,\"#d8576b\"],[0.6666666666666666,\"#ed7953\"],[0.7777777777777778,\"#fb9f3a\"],[0.8888888888888888,\"#fdca26\"],[1.0,\"#f0f921\"]],\"type\":\"histogram2d\"}],\"histogram2dcontour\":[{\"colorbar\":{\"outlinewidth\":0,\"ticks\":\"\"},\"colorscale\":[[0.0,\"#0d0887\"],[0.1111111111111111,\"#46039f\"],[0.2222222222222222,\"#7201a8\"],[0.3333333333333333,\"#9c179e\"],[0.4444444444444444,\"#bd3786\"],[0.5555555555555556,\"#d8576b\"],[0.6666666666666666,\"#ed7953\"],[0.7777777777777778,\"#fb9f3a\"],[0.8888888888888888,\"#fdca26\"],[1.0,\"#f0f921\"]],\"type\":\"histogram2dcontour\"}],\"mesh3d\":[{\"colorbar\":{\"outlinewidth\":0,\"ticks\":\"\"},\"type\":\"mesh3d\"}],\"parcoords\":[{\"line\":{\"colorbar\":{\"outlinewidth\":0,\"ticks\":\"\"}},\"type\":\"parcoords\"}],\"pie\":[{\"automargin\":true,\"type\":\"pie\"}],\"scatter\":[{\"marker\":{\"colorbar\":{\"outlinewidth\":0,\"ticks\":\"\"}},\"type\":\"scatter\"}],\"scatter3d\":[{\"line\":{\"colorbar\":{\"outlinewidth\":0,\"ticks\":\"\"}},\"marker\":{\"colorbar\":{\"outlinewidth\":0,\"ticks\":\"\"}},\"type\":\"scatter3d\"}],\"scattercarpet\":[{\"marker\":{\"colorbar\":{\"outlinewidth\":0,\"ticks\":\"\"}},\"type\":\"scattercarpet\"}],\"scattergeo\":[{\"marker\":{\"colorbar\":{\"outlinewidth\":0,\"ticks\":\"\"}},\"type\":\"scattergeo\"}],\"scattergl\":[{\"marker\":{\"colorbar\":{\"outlinewidth\":0,\"ticks\":\"\"}},\"type\":\"scattergl\"}],\"scattermapbox\":[{\"marker\":{\"colorbar\":{\"outlinewidth\":0,\"ticks\":\"\"}},\"type\":\"scattermapbox\"}],\"scatterpolar\":[{\"marker\":{\"colorbar\":{\"outlinewidth\":0,\"ticks\":\"\"}},\"type\":\"scatterpolar\"}],\"scatterpolargl\":[{\"marker\":{\"colorbar\":{\"outlinewidth\":0,\"ticks\":\"\"}},\"type\":\"scatterpolargl\"}],\"scatterternary\":[{\"marker\":{\"colorbar\":{\"outlinewidth\":0,\"ticks\":\"\"}},\"type\":\"scatterternary\"}],\"surface\":[{\"colorbar\":{\"outlinewidth\":0,\"ticks\":\"\"},\"colorscale\":[[0.0,\"#0d0887\"],[0.1111111111111111,\"#46039f\"],[0.2222222222222222,\"#7201a8\"],[0.3333333333333333,\"#9c179e\"],[0.4444444444444444,\"#bd3786\"],[0.5555555555555556,\"#d8576b\"],[0.6666666666666666,\"#ed7953\"],[0.7777777777777778,\"#fb9f3a\"],[0.8888888888888888,\"#fdca26\"],[1.0,\"#f0f921\"]],\"type\":\"surface\"}],\"table\":[{\"cells\":{\"fill\":{\"color\":\"#EBF0F8\"},\"line\":{\"color\":\"white\"}},\"header\":{\"fill\":{\"color\":\"#C8D4E3\"},\"line\":{\"color\":\"white\"}},\"type\":\"table\"}]},\"layout\":{\"annotationdefaults\":{\"arrowcolor\":\"#2a3f5f\",\"arrowhead\":0,\"arrowwidth\":1},\"autotypenumbers\":\"strict\",\"coloraxis\":{\"colorbar\":{\"outlinewidth\":0,\"ticks\":\"\"}},\"colorscale\":{\"diverging\":[[0,\"#8e0152\"],[0.1,\"#c51b7d\"],[0.2,\"#de77ae\"],[0.3,\"#f1b6da\"],[0.4,\"#fde0ef\"],[0.5,\"#f7f7f7\"],[0.6,\"#e6f5d0\"],[0.7,\"#b8e186\"],[0.8,\"#7fbc41\"],[0.9,\"#4d9221\"],[1,\"#276419\"]],\"sequential\":[[0.0,\"#0d0887\"],[0.1111111111111111,\"#46039f\"],[0.2222222222222222,\"#7201a8\"],[0.3333333333333333,\"#9c179e\"],[0.4444444444444444,\"#bd3786\"],[0.5555555555555556,\"#d8576b\"],[0.6666666666666666,\"#ed7953\"],[0.7777777777777778,\"#fb9f3a\"],[0.8888888888888888,\"#fdca26\"],[1.0,\"#f0f921\"]],\"sequentialminus\":[[0.0,\"#0d0887\"],[0.1111111111111111,\"#46039f\"],[0.2222222222222222,\"#7201a8\"],[0.3333333333333333,\"#9c179e\"],[0.4444444444444444,\"#bd3786\"],[0.5555555555555556,\"#d8576b\"],[0.6666666666666666,\"#ed7953\"],[0.7777777777777778,\"#fb9f3a\"],[0.8888888888888888,\"#fdca26\"],[1.0,\"#f0f921\"]]},\"colorway\":[\"#636efa\",\"#EF553B\",\"#00cc96\",\"#ab63fa\",\"#FFA15A\",\"#19d3f3\",\"#FF6692\",\"#B6E880\",\"#FF97FF\",\"#FECB52\"],\"font\":{\"color\":\"#2a3f5f\"},\"geo\":{\"bgcolor\":\"white\",\"lakecolor\":\"white\",\"landcolor\":\"#E5ECF6\",\"showlakes\":true,\"showland\":true,\"subunitcolor\":\"white\"},\"hoverlabel\":{\"align\":\"left\"},\"hovermode\":\"closest\",\"mapbox\":{\"style\":\"light\"},\"paper_bgcolor\":\"white\",\"plot_bgcolor\":\"#E5ECF6\",\"polar\":{\"angularaxis\":{\"gridcolor\":\"white\",\"linecolor\":\"white\",\"ticks\":\"\"},\"bgcolor\":\"#E5ECF6\",\"radialaxis\":{\"gridcolor\":\"white\",\"linecolor\":\"white\",\"ticks\":\"\"}},\"scene\":{\"xaxis\":{\"backgroundcolor\":\"#E5ECF6\",\"gridcolor\":\"white\",\"gridwidth\":2,\"linecolor\":\"white\",\"showbackground\":true,\"ticks\":\"\",\"zerolinecolor\":\"white\"},\"yaxis\":{\"backgroundcolor\":\"#E5ECF6\",\"gridcolor\":\"white\",\"gridwidth\":2,\"linecolor\":\"white\",\"showbackground\":true,\"ticks\":\"\",\"zerolinecolor\":\"white\"},\"zaxis\":{\"backgroundcolor\":\"#E5ECF6\",\"gridcolor\":\"white\",\"gridwidth\":2,\"linecolor\":\"white\",\"showbackground\":true,\"ticks\":\"\",\"zerolinecolor\":\"white\"}},\"shapedefaults\":{\"line\":{\"color\":\"#2a3f5f\"}},\"ternary\":{\"aaxis\":{\"gridcolor\":\"white\",\"linecolor\":\"white\",\"ticks\":\"\"},\"baxis\":{\"gridcolor\":\"white\",\"linecolor\":\"white\",\"ticks\":\"\"},\"bgcolor\":\"#E5ECF6\",\"caxis\":{\"gridcolor\":\"white\",\"linecolor\":\"white\",\"ticks\":\"\"}},\"title\":{\"x\":0.05},\"xaxis\":{\"automargin\":true,\"gridcolor\":\"white\",\"linecolor\":\"white\",\"ticks\":\"\",\"title\":{\"standoff\":15},\"zerolinecolor\":\"white\",\"zerolinewidth\":2},\"yaxis\":{\"automargin\":true,\"gridcolor\":\"white\",\"linecolor\":\"white\",\"ticks\":\"\",\"title\":{\"standoff\":15},\"zerolinecolor\":\"white\",\"zerolinewidth\":2}}},\"title\":{\"text\":\"Ratio sucre / kilocalorie\"},\"xaxis\":{\"title\":{\"text\":\"Ratio sucre / kcal\"}},\"yaxis\":{\"title\":{\"text\":\"Nombres\"}}},                        {\"responsive\": true}                    ).then(function(){\n",
       "                            \n",
       "var gd = document.getElementById('014cf8bf-6089-4f59-b97b-a7ef4908c3c9');\n",
       "var x = new MutationObserver(function (mutations, observer) {{\n",
       "        var display = window.getComputedStyle(gd).display;\n",
       "        if (!display || display === 'none') {{\n",
       "            console.log([gd, 'removed!']);\n",
       "            Plotly.purge(gd);\n",
       "            observer.disconnect();\n",
       "        }}\n",
       "}});\n",
       "\n",
       "// Listen for the removal of the full notebook cells\n",
       "var notebookContainer = gd.closest('#notebook-container');\n",
       "if (notebookContainer) {{\n",
       "    x.observe(notebookContainer, {childList: true});\n",
       "}}\n",
       "\n",
       "// Listen for the clearing of the current output cell\n",
       "var outputEl = gd.closest('.output');\n",
       "if (outputEl) {{\n",
       "    x.observe(outputEl, {childList: true});\n",
       "}}\n",
       "\n",
       "                        })                };                });            </script>        </div>"
      ]
     },
     "metadata": {},
     "output_type": "display_data"
    }
   ],
   "source": [
    "# visualisation\n",
    "sucre = go.Histogram(\n",
    "    x=df_visu1.Sucre,\n",
    "    opacity=0.75,\n",
    "    name = \"Sucre\",\n",
    "    marker=dict(color='rgba(171, 50, 96, 0.6)'))\n",
    "kcal = go.Histogram(\n",
    "    x=df_visu1.Kcal,\n",
    "    opacity=0.75,\n",
    "    name = \"Kcal\",\n",
    "    marker=dict(color='rgba(12, 50, 196, 0.6)'))\n",
    "\n",
    "data = [sucre, kcal]\n",
    "layout = go.Layout(barmode='overlay',\n",
    "                   title='Ratio sucre / kilocalorie',\n",
    "                   xaxis=dict(title='Ratio sucre / kcal'),\n",
    "                   yaxis=dict( title='Nombres'))\n",
    "fig = go.Figure(data=data, layout=layout)\n",
    "fig.show()"
   ]
  },
  {
   "cell_type": "markdown",
   "id": "c4c95844",
   "metadata": {},
   "source": [
    "# <b>Taux de sucre pour 100gr</b>"
   ]
  },
  {
   "cell_type": "code",
   "execution_count": 32,
   "id": "ab54d9c9",
   "metadata": {},
   "outputs": [],
   "source": [
    "# new df for sugars\n",
    "df_sugars = df"
   ]
  },
  {
   "cell_type": "code",
   "execution_count": 33,
   "id": "9708f2ba",
   "metadata": {},
   "outputs": [],
   "source": [
    "# delete product with sugars_100g = 0\n",
    "df_sugars = df_sugars[df_sugars.sugars_100g != 0]"
   ]
  },
  {
   "cell_type": "code",
   "execution_count": 34,
   "id": "c2340eff",
   "metadata": {},
   "outputs": [
    {
     "data": {
      "text/plain": [
       "8.7     77\n",
       "10.0    51\n",
       "9.0     42\n",
       "11.0    23\n",
       "9.5     18\n",
       "        ..\n",
       "10.6     1\n",
       "6.0      1\n",
       "10.6     1\n",
       "5.1      1\n",
       "7.9      1\n",
       "Name: sugars_100g, Length: 78, dtype: int64"
      ]
     },
     "execution_count": 34,
     "metadata": {},
     "output_type": "execute_result"
    }
   ],
   "source": [
    "df_sugars['sugars_100g'].value_counts().sort_values(ascending=False)"
   ]
  },
  {
   "cell_type": "code",
   "execution_count": 35,
   "id": "b47850b4",
   "metadata": {},
   "outputs": [
    {
     "data": {
      "text/html": [
       "<div>\n",
       "<style scoped>\n",
       "    .dataframe tbody tr th:only-of-type {\n",
       "        vertical-align: middle;\n",
       "    }\n",
       "\n",
       "    .dataframe tbody tr th {\n",
       "        vertical-align: top;\n",
       "    }\n",
       "\n",
       "    .dataframe thead th {\n",
       "        text-align: right;\n",
       "    }\n",
       "</style>\n",
       "<table border=\"1\" class=\"dataframe\">\n",
       "  <thead>\n",
       "    <tr style=\"text-align: right;\">\n",
       "      <th></th>\n",
       "      <th>bins</th>\n",
       "      <th>sugars_100g</th>\n",
       "    </tr>\n",
       "  </thead>\n",
       "  <tbody>\n",
       "    <tr>\n",
       "      <th>0</th>\n",
       "      <td>(-0.001, 5.0]</td>\n",
       "      <td>83</td>\n",
       "    </tr>\n",
       "    <tr>\n",
       "      <th>1</th>\n",
       "      <td>(5.0, 10.0]</td>\n",
       "      <td>372</td>\n",
       "    </tr>\n",
       "    <tr>\n",
       "      <th>2</th>\n",
       "      <td>(10.0, 15.0]</td>\n",
       "      <td>55</td>\n",
       "    </tr>\n",
       "    <tr>\n",
       "      <th>3</th>\n",
       "      <td>(15.0, 20.0]</td>\n",
       "      <td>3</td>\n",
       "    </tr>\n",
       "    <tr>\n",
       "      <th>4</th>\n",
       "      <td>(20.0, 25.0]</td>\n",
       "      <td>2</td>\n",
       "    </tr>\n",
       "  </tbody>\n",
       "</table>\n",
       "</div>"
      ],
      "text/plain": [
       "            bins  sugars_100g\n",
       "0  (-0.001, 5.0]           83\n",
       "1    (5.0, 10.0]          372\n",
       "2   (10.0, 15.0]           55\n",
       "3   (15.0, 20.0]            3\n",
       "4   (20.0, 25.0]            2"
      ]
     },
     "execution_count": 35,
     "metadata": {},
     "output_type": "execute_result"
    }
   ],
   "source": [
    "# create 7 bins starting with 0 up to 50\n",
    "# bins = np.linspace(0, 50, 7)\n",
    "bins = np.arange(0, 30, 5)\n",
    "\n",
    "# use pd.cut to create the bins\n",
    "df['sugars_100g'] = pd.cut(df['sugars_100g'], bins, include_lowest=True)\n",
    "\n",
    "# pd.cut creates an interval category which is sorted from lowest bin to the greatest bin\n",
    "df['sugars_100g'].cat.categories\n",
    "\n",
    "# count the values in each bin. Bins are sorted based on the occurance (from most populated to the least one)\n",
    "agg = df['sugars_100g'].value_counts()\n",
    "\n",
    "# sort the values according to the bins (`sort_index`), turn into data frame (`to_frame`) and reset index\n",
    "agg = agg.sort_index().to_frame().reset_index()\n",
    "\n",
    "# rename index (containing the bin range to bins)\n",
    "agg.rename(columns={\"index\":\"bins\"}, inplace=True)\n",
    "\n",
    "# Plotly cannot work with categories index, so we need to turn it into string\n",
    "agg[\"bins\"] = agg[\"bins\"].astype(\"str\")\n",
    "\n",
    "agg"
   ]
  },
  {
   "cell_type": "code",
   "execution_count": 20,
   "id": "8944b181",
   "metadata": {},
   "outputs": [
    {
     "data": {
      "application/vnd.plotly.v1+json": {
       "config": {
        "plotlyServerURL": "https://plot.ly"
       },
       "data": [
        {
         "domain": {
          "x": [
           0,
           1
          ],
          "y": [
           0,
           1
          ]
         },
         "hovertemplate": "bins=%{label}<br>sugars_100g=%{value}<extra></extra>",
         "labels": [
          "(-0.001, 5.0]",
          "(5.0, 10.0]",
          "(10.0, 15.0]",
          "(15.0, 20.0]",
          "(20.0, 25.0]"
         ],
         "legendgroup": "",
         "name": "",
         "showlegend": true,
         "type": "pie",
         "values": [
          83,
          372,
          55,
          3,
          2
         ]
        }
       ],
       "layout": {
        "legend": {
         "tracegroupgap": 0
        },
        "template": {
         "data": {
          "bar": [
           {
            "error_x": {
             "color": "#2a3f5f"
            },
            "error_y": {
             "color": "#2a3f5f"
            },
            "marker": {
             "line": {
              "color": "#E5ECF6",
              "width": 0.5
             },
             "pattern": {
              "fillmode": "overlay",
              "size": 10,
              "solidity": 0.2
             }
            },
            "type": "bar"
           }
          ],
          "barpolar": [
           {
            "marker": {
             "line": {
              "color": "#E5ECF6",
              "width": 0.5
             },
             "pattern": {
              "fillmode": "overlay",
              "size": 10,
              "solidity": 0.2
             }
            },
            "type": "barpolar"
           }
          ],
          "carpet": [
           {
            "aaxis": {
             "endlinecolor": "#2a3f5f",
             "gridcolor": "white",
             "linecolor": "white",
             "minorgridcolor": "white",
             "startlinecolor": "#2a3f5f"
            },
            "baxis": {
             "endlinecolor": "#2a3f5f",
             "gridcolor": "white",
             "linecolor": "white",
             "minorgridcolor": "white",
             "startlinecolor": "#2a3f5f"
            },
            "type": "carpet"
           }
          ],
          "choropleth": [
           {
            "colorbar": {
             "outlinewidth": 0,
             "ticks": ""
            },
            "type": "choropleth"
           }
          ],
          "contour": [
           {
            "colorbar": {
             "outlinewidth": 0,
             "ticks": ""
            },
            "colorscale": [
             [
              0,
              "#0d0887"
             ],
             [
              0.1111111111111111,
              "#46039f"
             ],
             [
              0.2222222222222222,
              "#7201a8"
             ],
             [
              0.3333333333333333,
              "#9c179e"
             ],
             [
              0.4444444444444444,
              "#bd3786"
             ],
             [
              0.5555555555555556,
              "#d8576b"
             ],
             [
              0.6666666666666666,
              "#ed7953"
             ],
             [
              0.7777777777777778,
              "#fb9f3a"
             ],
             [
              0.8888888888888888,
              "#fdca26"
             ],
             [
              1,
              "#f0f921"
             ]
            ],
            "type": "contour"
           }
          ],
          "contourcarpet": [
           {
            "colorbar": {
             "outlinewidth": 0,
             "ticks": ""
            },
            "type": "contourcarpet"
           }
          ],
          "heatmap": [
           {
            "colorbar": {
             "outlinewidth": 0,
             "ticks": ""
            },
            "colorscale": [
             [
              0,
              "#0d0887"
             ],
             [
              0.1111111111111111,
              "#46039f"
             ],
             [
              0.2222222222222222,
              "#7201a8"
             ],
             [
              0.3333333333333333,
              "#9c179e"
             ],
             [
              0.4444444444444444,
              "#bd3786"
             ],
             [
              0.5555555555555556,
              "#d8576b"
             ],
             [
              0.6666666666666666,
              "#ed7953"
             ],
             [
              0.7777777777777778,
              "#fb9f3a"
             ],
             [
              0.8888888888888888,
              "#fdca26"
             ],
             [
              1,
              "#f0f921"
             ]
            ],
            "type": "heatmap"
           }
          ],
          "heatmapgl": [
           {
            "colorbar": {
             "outlinewidth": 0,
             "ticks": ""
            },
            "colorscale": [
             [
              0,
              "#0d0887"
             ],
             [
              0.1111111111111111,
              "#46039f"
             ],
             [
              0.2222222222222222,
              "#7201a8"
             ],
             [
              0.3333333333333333,
              "#9c179e"
             ],
             [
              0.4444444444444444,
              "#bd3786"
             ],
             [
              0.5555555555555556,
              "#d8576b"
             ],
             [
              0.6666666666666666,
              "#ed7953"
             ],
             [
              0.7777777777777778,
              "#fb9f3a"
             ],
             [
              0.8888888888888888,
              "#fdca26"
             ],
             [
              1,
              "#f0f921"
             ]
            ],
            "type": "heatmapgl"
           }
          ],
          "histogram": [
           {
            "marker": {
             "pattern": {
              "fillmode": "overlay",
              "size": 10,
              "solidity": 0.2
             }
            },
            "type": "histogram"
           }
          ],
          "histogram2d": [
           {
            "colorbar": {
             "outlinewidth": 0,
             "ticks": ""
            },
            "colorscale": [
             [
              0,
              "#0d0887"
             ],
             [
              0.1111111111111111,
              "#46039f"
             ],
             [
              0.2222222222222222,
              "#7201a8"
             ],
             [
              0.3333333333333333,
              "#9c179e"
             ],
             [
              0.4444444444444444,
              "#bd3786"
             ],
             [
              0.5555555555555556,
              "#d8576b"
             ],
             [
              0.6666666666666666,
              "#ed7953"
             ],
             [
              0.7777777777777778,
              "#fb9f3a"
             ],
             [
              0.8888888888888888,
              "#fdca26"
             ],
             [
              1,
              "#f0f921"
             ]
            ],
            "type": "histogram2d"
           }
          ],
          "histogram2dcontour": [
           {
            "colorbar": {
             "outlinewidth": 0,
             "ticks": ""
            },
            "colorscale": [
             [
              0,
              "#0d0887"
             ],
             [
              0.1111111111111111,
              "#46039f"
             ],
             [
              0.2222222222222222,
              "#7201a8"
             ],
             [
              0.3333333333333333,
              "#9c179e"
             ],
             [
              0.4444444444444444,
              "#bd3786"
             ],
             [
              0.5555555555555556,
              "#d8576b"
             ],
             [
              0.6666666666666666,
              "#ed7953"
             ],
             [
              0.7777777777777778,
              "#fb9f3a"
             ],
             [
              0.8888888888888888,
              "#fdca26"
             ],
             [
              1,
              "#f0f921"
             ]
            ],
            "type": "histogram2dcontour"
           }
          ],
          "mesh3d": [
           {
            "colorbar": {
             "outlinewidth": 0,
             "ticks": ""
            },
            "type": "mesh3d"
           }
          ],
          "parcoords": [
           {
            "line": {
             "colorbar": {
              "outlinewidth": 0,
              "ticks": ""
             }
            },
            "type": "parcoords"
           }
          ],
          "pie": [
           {
            "automargin": true,
            "type": "pie"
           }
          ],
          "scatter": [
           {
            "marker": {
             "colorbar": {
              "outlinewidth": 0,
              "ticks": ""
             }
            },
            "type": "scatter"
           }
          ],
          "scatter3d": [
           {
            "line": {
             "colorbar": {
              "outlinewidth": 0,
              "ticks": ""
             }
            },
            "marker": {
             "colorbar": {
              "outlinewidth": 0,
              "ticks": ""
             }
            },
            "type": "scatter3d"
           }
          ],
          "scattercarpet": [
           {
            "marker": {
             "colorbar": {
              "outlinewidth": 0,
              "ticks": ""
             }
            },
            "type": "scattercarpet"
           }
          ],
          "scattergeo": [
           {
            "marker": {
             "colorbar": {
              "outlinewidth": 0,
              "ticks": ""
             }
            },
            "type": "scattergeo"
           }
          ],
          "scattergl": [
           {
            "marker": {
             "colorbar": {
              "outlinewidth": 0,
              "ticks": ""
             }
            },
            "type": "scattergl"
           }
          ],
          "scattermapbox": [
           {
            "marker": {
             "colorbar": {
              "outlinewidth": 0,
              "ticks": ""
             }
            },
            "type": "scattermapbox"
           }
          ],
          "scatterpolar": [
           {
            "marker": {
             "colorbar": {
              "outlinewidth": 0,
              "ticks": ""
             }
            },
            "type": "scatterpolar"
           }
          ],
          "scatterpolargl": [
           {
            "marker": {
             "colorbar": {
              "outlinewidth": 0,
              "ticks": ""
             }
            },
            "type": "scatterpolargl"
           }
          ],
          "scatterternary": [
           {
            "marker": {
             "colorbar": {
              "outlinewidth": 0,
              "ticks": ""
             }
            },
            "type": "scatterternary"
           }
          ],
          "surface": [
           {
            "colorbar": {
             "outlinewidth": 0,
             "ticks": ""
            },
            "colorscale": [
             [
              0,
              "#0d0887"
             ],
             [
              0.1111111111111111,
              "#46039f"
             ],
             [
              0.2222222222222222,
              "#7201a8"
             ],
             [
              0.3333333333333333,
              "#9c179e"
             ],
             [
              0.4444444444444444,
              "#bd3786"
             ],
             [
              0.5555555555555556,
              "#d8576b"
             ],
             [
              0.6666666666666666,
              "#ed7953"
             ],
             [
              0.7777777777777778,
              "#fb9f3a"
             ],
             [
              0.8888888888888888,
              "#fdca26"
             ],
             [
              1,
              "#f0f921"
             ]
            ],
            "type": "surface"
           }
          ],
          "table": [
           {
            "cells": {
             "fill": {
              "color": "#EBF0F8"
             },
             "line": {
              "color": "white"
             }
            },
            "header": {
             "fill": {
              "color": "#C8D4E3"
             },
             "line": {
              "color": "white"
             }
            },
            "type": "table"
           }
          ]
         },
         "layout": {
          "annotationdefaults": {
           "arrowcolor": "#2a3f5f",
           "arrowhead": 0,
           "arrowwidth": 1
          },
          "autotypenumbers": "strict",
          "coloraxis": {
           "colorbar": {
            "outlinewidth": 0,
            "ticks": ""
           }
          },
          "colorscale": {
           "diverging": [
            [
             0,
             "#8e0152"
            ],
            [
             0.1,
             "#c51b7d"
            ],
            [
             0.2,
             "#de77ae"
            ],
            [
             0.3,
             "#f1b6da"
            ],
            [
             0.4,
             "#fde0ef"
            ],
            [
             0.5,
             "#f7f7f7"
            ],
            [
             0.6,
             "#e6f5d0"
            ],
            [
             0.7,
             "#b8e186"
            ],
            [
             0.8,
             "#7fbc41"
            ],
            [
             0.9,
             "#4d9221"
            ],
            [
             1,
             "#276419"
            ]
           ],
           "sequential": [
            [
             0,
             "#0d0887"
            ],
            [
             0.1111111111111111,
             "#46039f"
            ],
            [
             0.2222222222222222,
             "#7201a8"
            ],
            [
             0.3333333333333333,
             "#9c179e"
            ],
            [
             0.4444444444444444,
             "#bd3786"
            ],
            [
             0.5555555555555556,
             "#d8576b"
            ],
            [
             0.6666666666666666,
             "#ed7953"
            ],
            [
             0.7777777777777778,
             "#fb9f3a"
            ],
            [
             0.8888888888888888,
             "#fdca26"
            ],
            [
             1,
             "#f0f921"
            ]
           ],
           "sequentialminus": [
            [
             0,
             "#0d0887"
            ],
            [
             0.1111111111111111,
             "#46039f"
            ],
            [
             0.2222222222222222,
             "#7201a8"
            ],
            [
             0.3333333333333333,
             "#9c179e"
            ],
            [
             0.4444444444444444,
             "#bd3786"
            ],
            [
             0.5555555555555556,
             "#d8576b"
            ],
            [
             0.6666666666666666,
             "#ed7953"
            ],
            [
             0.7777777777777778,
             "#fb9f3a"
            ],
            [
             0.8888888888888888,
             "#fdca26"
            ],
            [
             1,
             "#f0f921"
            ]
           ]
          },
          "colorway": [
           "#636efa",
           "#EF553B",
           "#00cc96",
           "#ab63fa",
           "#FFA15A",
           "#19d3f3",
           "#FF6692",
           "#B6E880",
           "#FF97FF",
           "#FECB52"
          ],
          "font": {
           "color": "#2a3f5f"
          },
          "geo": {
           "bgcolor": "white",
           "lakecolor": "white",
           "landcolor": "#E5ECF6",
           "showlakes": true,
           "showland": true,
           "subunitcolor": "white"
          },
          "hoverlabel": {
           "align": "left"
          },
          "hovermode": "closest",
          "mapbox": {
           "style": "light"
          },
          "paper_bgcolor": "white",
          "plot_bgcolor": "#E5ECF6",
          "polar": {
           "angularaxis": {
            "gridcolor": "white",
            "linecolor": "white",
            "ticks": ""
           },
           "bgcolor": "#E5ECF6",
           "radialaxis": {
            "gridcolor": "white",
            "linecolor": "white",
            "ticks": ""
           }
          },
          "scene": {
           "xaxis": {
            "backgroundcolor": "#E5ECF6",
            "gridcolor": "white",
            "gridwidth": 2,
            "linecolor": "white",
            "showbackground": true,
            "ticks": "",
            "zerolinecolor": "white"
           },
           "yaxis": {
            "backgroundcolor": "#E5ECF6",
            "gridcolor": "white",
            "gridwidth": 2,
            "linecolor": "white",
            "showbackground": true,
            "ticks": "",
            "zerolinecolor": "white"
           },
           "zaxis": {
            "backgroundcolor": "#E5ECF6",
            "gridcolor": "white",
            "gridwidth": 2,
            "linecolor": "white",
            "showbackground": true,
            "ticks": "",
            "zerolinecolor": "white"
           }
          },
          "shapedefaults": {
           "line": {
            "color": "#2a3f5f"
           }
          },
          "ternary": {
           "aaxis": {
            "gridcolor": "white",
            "linecolor": "white",
            "ticks": ""
           },
           "baxis": {
            "gridcolor": "white",
            "linecolor": "white",
            "ticks": ""
           },
           "bgcolor": "#E5ECF6",
           "caxis": {
            "gridcolor": "white",
            "linecolor": "white",
            "ticks": ""
           }
          },
          "title": {
           "x": 0.05
          },
          "xaxis": {
           "automargin": true,
           "gridcolor": "white",
           "linecolor": "white",
           "ticks": "",
           "title": {
            "standoff": 15
           },
           "zerolinecolor": "white",
           "zerolinewidth": 2
          },
          "yaxis": {
           "automargin": true,
           "gridcolor": "white",
           "linecolor": "white",
           "ticks": "",
           "title": {
            "standoff": 15
           },
           "zerolinecolor": "white",
           "zerolinewidth": 2
          }
         }
        },
        "title": {
         "text": "Répartition des produits avec taux de sucre entre 0,0001 et 50 grammes"
        }
       }
      },
      "text/html": [
       "<div>                            <div id=\"158702c9-8f5a-4fc9-be58-fe891372cf64\" class=\"plotly-graph-div\" style=\"height:525px; width:100%;\"></div>            <script type=\"text/javascript\">                require([\"plotly\"], function(Plotly) {                    window.PLOTLYENV=window.PLOTLYENV || {};                                    if (document.getElementById(\"158702c9-8f5a-4fc9-be58-fe891372cf64\")) {                    Plotly.newPlot(                        \"158702c9-8f5a-4fc9-be58-fe891372cf64\",                        [{\"domain\":{\"x\":[0.0,1.0],\"y\":[0.0,1.0]},\"hovertemplate\":\"bins=%{label}<br>sugars_100g=%{value}<extra></extra>\",\"labels\":[\"(-0.001, 5.0]\",\"(5.0, 10.0]\",\"(10.0, 15.0]\",\"(15.0, 20.0]\",\"(20.0, 25.0]\"],\"legendgroup\":\"\",\"name\":\"\",\"showlegend\":true,\"type\":\"pie\",\"values\":[83,372,55,3,2]}],                        {\"legend\":{\"tracegroupgap\":0},\"template\":{\"data\":{\"bar\":[{\"error_x\":{\"color\":\"#2a3f5f\"},\"error_y\":{\"color\":\"#2a3f5f\"},\"marker\":{\"line\":{\"color\":\"#E5ECF6\",\"width\":0.5},\"pattern\":{\"fillmode\":\"overlay\",\"size\":10,\"solidity\":0.2}},\"type\":\"bar\"}],\"barpolar\":[{\"marker\":{\"line\":{\"color\":\"#E5ECF6\",\"width\":0.5},\"pattern\":{\"fillmode\":\"overlay\",\"size\":10,\"solidity\":0.2}},\"type\":\"barpolar\"}],\"carpet\":[{\"aaxis\":{\"endlinecolor\":\"#2a3f5f\",\"gridcolor\":\"white\",\"linecolor\":\"white\",\"minorgridcolor\":\"white\",\"startlinecolor\":\"#2a3f5f\"},\"baxis\":{\"endlinecolor\":\"#2a3f5f\",\"gridcolor\":\"white\",\"linecolor\":\"white\",\"minorgridcolor\":\"white\",\"startlinecolor\":\"#2a3f5f\"},\"type\":\"carpet\"}],\"choropleth\":[{\"colorbar\":{\"outlinewidth\":0,\"ticks\":\"\"},\"type\":\"choropleth\"}],\"contour\":[{\"colorbar\":{\"outlinewidth\":0,\"ticks\":\"\"},\"colorscale\":[[0.0,\"#0d0887\"],[0.1111111111111111,\"#46039f\"],[0.2222222222222222,\"#7201a8\"],[0.3333333333333333,\"#9c179e\"],[0.4444444444444444,\"#bd3786\"],[0.5555555555555556,\"#d8576b\"],[0.6666666666666666,\"#ed7953\"],[0.7777777777777778,\"#fb9f3a\"],[0.8888888888888888,\"#fdca26\"],[1.0,\"#f0f921\"]],\"type\":\"contour\"}],\"contourcarpet\":[{\"colorbar\":{\"outlinewidth\":0,\"ticks\":\"\"},\"type\":\"contourcarpet\"}],\"heatmap\":[{\"colorbar\":{\"outlinewidth\":0,\"ticks\":\"\"},\"colorscale\":[[0.0,\"#0d0887\"],[0.1111111111111111,\"#46039f\"],[0.2222222222222222,\"#7201a8\"],[0.3333333333333333,\"#9c179e\"],[0.4444444444444444,\"#bd3786\"],[0.5555555555555556,\"#d8576b\"],[0.6666666666666666,\"#ed7953\"],[0.7777777777777778,\"#fb9f3a\"],[0.8888888888888888,\"#fdca26\"],[1.0,\"#f0f921\"]],\"type\":\"heatmap\"}],\"heatmapgl\":[{\"colorbar\":{\"outlinewidth\":0,\"ticks\":\"\"},\"colorscale\":[[0.0,\"#0d0887\"],[0.1111111111111111,\"#46039f\"],[0.2222222222222222,\"#7201a8\"],[0.3333333333333333,\"#9c179e\"],[0.4444444444444444,\"#bd3786\"],[0.5555555555555556,\"#d8576b\"],[0.6666666666666666,\"#ed7953\"],[0.7777777777777778,\"#fb9f3a\"],[0.8888888888888888,\"#fdca26\"],[1.0,\"#f0f921\"]],\"type\":\"heatmapgl\"}],\"histogram\":[{\"marker\":{\"pattern\":{\"fillmode\":\"overlay\",\"size\":10,\"solidity\":0.2}},\"type\":\"histogram\"}],\"histogram2d\":[{\"colorbar\":{\"outlinewidth\":0,\"ticks\":\"\"},\"colorscale\":[[0.0,\"#0d0887\"],[0.1111111111111111,\"#46039f\"],[0.2222222222222222,\"#7201a8\"],[0.3333333333333333,\"#9c179e\"],[0.4444444444444444,\"#bd3786\"],[0.5555555555555556,\"#d8576b\"],[0.6666666666666666,\"#ed7953\"],[0.7777777777777778,\"#fb9f3a\"],[0.8888888888888888,\"#fdca26\"],[1.0,\"#f0f921\"]],\"type\":\"histogram2d\"}],\"histogram2dcontour\":[{\"colorbar\":{\"outlinewidth\":0,\"ticks\":\"\"},\"colorscale\":[[0.0,\"#0d0887\"],[0.1111111111111111,\"#46039f\"],[0.2222222222222222,\"#7201a8\"],[0.3333333333333333,\"#9c179e\"],[0.4444444444444444,\"#bd3786\"],[0.5555555555555556,\"#d8576b\"],[0.6666666666666666,\"#ed7953\"],[0.7777777777777778,\"#fb9f3a\"],[0.8888888888888888,\"#fdca26\"],[1.0,\"#f0f921\"]],\"type\":\"histogram2dcontour\"}],\"mesh3d\":[{\"colorbar\":{\"outlinewidth\":0,\"ticks\":\"\"},\"type\":\"mesh3d\"}],\"parcoords\":[{\"line\":{\"colorbar\":{\"outlinewidth\":0,\"ticks\":\"\"}},\"type\":\"parcoords\"}],\"pie\":[{\"automargin\":true,\"type\":\"pie\"}],\"scatter\":[{\"marker\":{\"colorbar\":{\"outlinewidth\":0,\"ticks\":\"\"}},\"type\":\"scatter\"}],\"scatter3d\":[{\"line\":{\"colorbar\":{\"outlinewidth\":0,\"ticks\":\"\"}},\"marker\":{\"colorbar\":{\"outlinewidth\":0,\"ticks\":\"\"}},\"type\":\"scatter3d\"}],\"scattercarpet\":[{\"marker\":{\"colorbar\":{\"outlinewidth\":0,\"ticks\":\"\"}},\"type\":\"scattercarpet\"}],\"scattergeo\":[{\"marker\":{\"colorbar\":{\"outlinewidth\":0,\"ticks\":\"\"}},\"type\":\"scattergeo\"}],\"scattergl\":[{\"marker\":{\"colorbar\":{\"outlinewidth\":0,\"ticks\":\"\"}},\"type\":\"scattergl\"}],\"scattermapbox\":[{\"marker\":{\"colorbar\":{\"outlinewidth\":0,\"ticks\":\"\"}},\"type\":\"scattermapbox\"}],\"scatterpolar\":[{\"marker\":{\"colorbar\":{\"outlinewidth\":0,\"ticks\":\"\"}},\"type\":\"scatterpolar\"}],\"scatterpolargl\":[{\"marker\":{\"colorbar\":{\"outlinewidth\":0,\"ticks\":\"\"}},\"type\":\"scatterpolargl\"}],\"scatterternary\":[{\"marker\":{\"colorbar\":{\"outlinewidth\":0,\"ticks\":\"\"}},\"type\":\"scatterternary\"}],\"surface\":[{\"colorbar\":{\"outlinewidth\":0,\"ticks\":\"\"},\"colorscale\":[[0.0,\"#0d0887\"],[0.1111111111111111,\"#46039f\"],[0.2222222222222222,\"#7201a8\"],[0.3333333333333333,\"#9c179e\"],[0.4444444444444444,\"#bd3786\"],[0.5555555555555556,\"#d8576b\"],[0.6666666666666666,\"#ed7953\"],[0.7777777777777778,\"#fb9f3a\"],[0.8888888888888888,\"#fdca26\"],[1.0,\"#f0f921\"]],\"type\":\"surface\"}],\"table\":[{\"cells\":{\"fill\":{\"color\":\"#EBF0F8\"},\"line\":{\"color\":\"white\"}},\"header\":{\"fill\":{\"color\":\"#C8D4E3\"},\"line\":{\"color\":\"white\"}},\"type\":\"table\"}]},\"layout\":{\"annotationdefaults\":{\"arrowcolor\":\"#2a3f5f\",\"arrowhead\":0,\"arrowwidth\":1},\"autotypenumbers\":\"strict\",\"coloraxis\":{\"colorbar\":{\"outlinewidth\":0,\"ticks\":\"\"}},\"colorscale\":{\"diverging\":[[0,\"#8e0152\"],[0.1,\"#c51b7d\"],[0.2,\"#de77ae\"],[0.3,\"#f1b6da\"],[0.4,\"#fde0ef\"],[0.5,\"#f7f7f7\"],[0.6,\"#e6f5d0\"],[0.7,\"#b8e186\"],[0.8,\"#7fbc41\"],[0.9,\"#4d9221\"],[1,\"#276419\"]],\"sequential\":[[0.0,\"#0d0887\"],[0.1111111111111111,\"#46039f\"],[0.2222222222222222,\"#7201a8\"],[0.3333333333333333,\"#9c179e\"],[0.4444444444444444,\"#bd3786\"],[0.5555555555555556,\"#d8576b\"],[0.6666666666666666,\"#ed7953\"],[0.7777777777777778,\"#fb9f3a\"],[0.8888888888888888,\"#fdca26\"],[1.0,\"#f0f921\"]],\"sequentialminus\":[[0.0,\"#0d0887\"],[0.1111111111111111,\"#46039f\"],[0.2222222222222222,\"#7201a8\"],[0.3333333333333333,\"#9c179e\"],[0.4444444444444444,\"#bd3786\"],[0.5555555555555556,\"#d8576b\"],[0.6666666666666666,\"#ed7953\"],[0.7777777777777778,\"#fb9f3a\"],[0.8888888888888888,\"#fdca26\"],[1.0,\"#f0f921\"]]},\"colorway\":[\"#636efa\",\"#EF553B\",\"#00cc96\",\"#ab63fa\",\"#FFA15A\",\"#19d3f3\",\"#FF6692\",\"#B6E880\",\"#FF97FF\",\"#FECB52\"],\"font\":{\"color\":\"#2a3f5f\"},\"geo\":{\"bgcolor\":\"white\",\"lakecolor\":\"white\",\"landcolor\":\"#E5ECF6\",\"showlakes\":true,\"showland\":true,\"subunitcolor\":\"white\"},\"hoverlabel\":{\"align\":\"left\"},\"hovermode\":\"closest\",\"mapbox\":{\"style\":\"light\"},\"paper_bgcolor\":\"white\",\"plot_bgcolor\":\"#E5ECF6\",\"polar\":{\"angularaxis\":{\"gridcolor\":\"white\",\"linecolor\":\"white\",\"ticks\":\"\"},\"bgcolor\":\"#E5ECF6\",\"radialaxis\":{\"gridcolor\":\"white\",\"linecolor\":\"white\",\"ticks\":\"\"}},\"scene\":{\"xaxis\":{\"backgroundcolor\":\"#E5ECF6\",\"gridcolor\":\"white\",\"gridwidth\":2,\"linecolor\":\"white\",\"showbackground\":true,\"ticks\":\"\",\"zerolinecolor\":\"white\"},\"yaxis\":{\"backgroundcolor\":\"#E5ECF6\",\"gridcolor\":\"white\",\"gridwidth\":2,\"linecolor\":\"white\",\"showbackground\":true,\"ticks\":\"\",\"zerolinecolor\":\"white\"},\"zaxis\":{\"backgroundcolor\":\"#E5ECF6\",\"gridcolor\":\"white\",\"gridwidth\":2,\"linecolor\":\"white\",\"showbackground\":true,\"ticks\":\"\",\"zerolinecolor\":\"white\"}},\"shapedefaults\":{\"line\":{\"color\":\"#2a3f5f\"}},\"ternary\":{\"aaxis\":{\"gridcolor\":\"white\",\"linecolor\":\"white\",\"ticks\":\"\"},\"baxis\":{\"gridcolor\":\"white\",\"linecolor\":\"white\",\"ticks\":\"\"},\"bgcolor\":\"#E5ECF6\",\"caxis\":{\"gridcolor\":\"white\",\"linecolor\":\"white\",\"ticks\":\"\"}},\"title\":{\"x\":0.05},\"xaxis\":{\"automargin\":true,\"gridcolor\":\"white\",\"linecolor\":\"white\",\"ticks\":\"\",\"title\":{\"standoff\":15},\"zerolinecolor\":\"white\",\"zerolinewidth\":2},\"yaxis\":{\"automargin\":true,\"gridcolor\":\"white\",\"linecolor\":\"white\",\"ticks\":\"\",\"title\":{\"standoff\":15},\"zerolinecolor\":\"white\",\"zerolinewidth\":2}}},\"title\":{\"text\":\"R\\u00e9partition des produits avec taux de sucre entre 0,0001 et 50 grammes\"}},                        {\"responsive\": true}                    ).then(function(){\n",
       "                            \n",
       "var gd = document.getElementById('158702c9-8f5a-4fc9-be58-fe891372cf64');\n",
       "var x = new MutationObserver(function (mutations, observer) {{\n",
       "        var display = window.getComputedStyle(gd).display;\n",
       "        if (!display || display === 'none') {{\n",
       "            console.log([gd, 'removed!']);\n",
       "            Plotly.purge(gd);\n",
       "            observer.disconnect();\n",
       "        }}\n",
       "}});\n",
       "\n",
       "// Listen for the removal of the full notebook cells\n",
       "var notebookContainer = gd.closest('#notebook-container');\n",
       "if (notebookContainer) {{\n",
       "    x.observe(notebookContainer, {childList: true});\n",
       "}}\n",
       "\n",
       "// Listen for the clearing of the current output cell\n",
       "var outputEl = gd.closest('.output');\n",
       "if (outputEl) {{\n",
       "    x.observe(outputEl, {childList: true});\n",
       "}}\n",
       "\n",
       "                        })                };                });            </script>        </div>"
      ]
     },
     "metadata": {},
     "output_type": "display_data"
    }
   ],
   "source": [
    "#pie chart\n",
    "fig = px.pie(agg, values='sugars_100g', names='bins', title=\"Répartition des produits avec taux de sucre entre 0,0001 et 50 grammes\")\n",
    "fig.show()"
   ]
  },
  {
   "cell_type": "markdown",
   "id": "b6f559e5",
   "metadata": {},
   "source": [
    "- Il y a 83 jus d'orange (soit 16 %) possédant un taux de sucre pour 100gr entre 0 et 5 gr\n",
    "- La majorité (372 produits soit 72%) possède un taux de sucre pour 100gr  entre 5 et 10 gr"
   ]
  },
  {
   "cell_type": "markdown",
   "id": "4e8d27e6",
   "metadata": {},
   "source": [
    "# 🔍 Exploration"
   ]
  },
  {
   "cell_type": "markdown",
   "id": "23f171d1",
   "metadata": {},
   "source": [
    "# <b>Marques les plus représentées</b>"
   ]
  },
  {
   "cell_type": "code",
   "execution_count": 36,
   "id": "5797981c",
   "metadata": {},
   "outputs": [],
   "source": [
    "df_brands = df"
   ]
  },
  {
   "cell_type": "code",
   "execution_count": 37,
   "id": "0f28f684",
   "metadata": {},
   "outputs": [],
   "source": [
    "# delete product with brands = 0\n",
    "df_brands = df_brands[df_brands.brands != 0]"
   ]
  },
  {
   "cell_type": "code",
   "execution_count": 38,
   "id": "ac965a0c",
   "metadata": {},
   "outputs": [
    {
     "data": {
      "text/plain": [
       "U                               38\n",
       "Jafaden,Marque Repère           22\n",
       "Auchan                          19\n",
       "Leader Price                    18\n",
       "Franprix                        13\n",
       "                                ..\n",
       "Rik & Rok                        1\n",
       "La vie claire                    1\n",
       "Les Toques Blanches du Monde     1\n",
       "je sais pad                      1\n",
       "Fruima                           1\n",
       "Name: brands, Length: 162, dtype: int64"
      ]
     },
     "execution_count": 38,
     "metadata": {},
     "output_type": "execute_result"
    }
   ],
   "source": [
    "df_brands['brands'].value_counts(ascending=False)"
   ]
  },
  {
   "cell_type": "markdown",
   "id": "25e57fbc",
   "metadata": {},
   "source": [
    "<b>Les 5 marques de jus d'orange les plus representées dans l'échantillon sont des marques distributeurs : </b>\n",
    "- U (Super U)\n",
    "- Jafadan / Marque Repère (Leclerc)\n",
    "- Auchan\n",
    "- Leader Price\n",
    "- Paquito (Intermarché)"
   ]
  },
  {
   "cell_type": "markdown",
   "id": "462f1e0e",
   "metadata": {},
   "source": [
    "<img src=\"img/brands_logo.jpg\">"
   ]
  },
  {
   "cell_type": "markdown",
   "id": "60a691e7",
   "metadata": {},
   "source": [
    "# <b>Les jus d'orange sans sucre ajouté, sans colorants, sans conservateurs</b>"
   ]
  },
  {
   "cell_type": "code",
   "execution_count": 39,
   "id": "30053307",
   "metadata": {},
   "outputs": [],
   "source": [
    "df_juice = df"
   ]
  },
  {
   "cell_type": "code",
   "execution_count": 40,
   "id": "b56166df",
   "metadata": {},
   "outputs": [],
   "source": [
    "# delete product with brands = 0\n",
    "df_juice = df_brands[df_juice.labels != 0]"
   ]
  },
  {
   "cell_type": "code",
   "execution_count": 41,
   "id": "cdcb8263",
   "metadata": {},
   "outputs": [],
   "source": [
    "# isolate all rows with labels \"Sans sucre ajouté, Sans colorants, Sans conservateurs\"\n",
    "df_juice = df_juice[df_juice[\"labels\"].str.contains(\"Sans sucre ajouté, Sans colorants, Sans conservateurs\")]"
   ]
  },
  {
   "cell_type": "markdown",
   "id": "591dc31a",
   "metadata": {},
   "source": [
    "<b>5 jus d'orange sans conservateurs, sans colorants, ni sucre ajouté</b>\n",
    "- Pur jus orange bio de Les Fées Bio\n",
    "- 100% pur jus d'oranges pressées d'Andros\n",
    "- Pur jus d'orange sans pulpe de U Bio\n",
    "- Pressade pur jus orange de Pressade\n",
    "- Le pur jus orange du matin de Joker"
   ]
  },
  {
   "cell_type": "markdown",
   "id": "54b40fe0",
   "metadata": {},
   "source": [
    "<img src=\"img/juice_without.jpg\">"
   ]
  },
  {
   "cell_type": "markdown",
   "id": "25984702",
   "metadata": {},
   "source": [
    "# Les jus d'orange avec Nutriscore A"
   ]
  },
  {
   "cell_type": "code",
   "execution_count": 42,
   "id": "5e10a20c",
   "metadata": {},
   "outputs": [],
   "source": [
    "# isolate all rows with nutriscore_grade = A\n",
    "df_nutriscoreA = df_nutriscore[df_nutriscore['nutriscore_grade'].str.contains('a')]"
   ]
  },
  {
   "cell_type": "markdown",
   "id": "8e5508a2",
   "metadata": {},
   "source": [
    "Il y en a qu'un seul dans notre dataset, et il s'avère, qu'après vérification sur le site du distributeur (Super U), ce jus d'orange possède un nutriscore de B et non de A comme mentionné dans notre dataset."
   ]
  },
  {
   "cell_type": "markdown",
   "id": "21e1702b",
   "metadata": {},
   "source": [
    "<img src=\"img/nutriA.jpg\">"
   ]
  },
  {
   "cell_type": "markdown",
   "id": "34bfce58",
   "metadata": {},
   "source": [
    "# Les jus d'orange contenant le plus de vitamine C"
   ]
  },
  {
   "cell_type": "code",
   "execution_count": 43,
   "id": "299a6b76",
   "metadata": {},
   "outputs": [],
   "source": [
    "df_vit = df"
   ]
  },
  {
   "cell_type": "code",
   "execution_count": 44,
   "id": "8d745dac",
   "metadata": {},
   "outputs": [],
   "source": [
    "# delete product with vitamin-c_100g = 0\n",
    "df_vit = df_vit[df_vit['vitamin-c_100g'] != 0]"
   ]
  },
  {
   "cell_type": "code",
   "execution_count": 45,
   "id": "c669ef0e",
   "metadata": {},
   "outputs": [],
   "source": [
    "# delete product vitamin-c_100g > 0.039 \n",
    "df_vit = df_vit[df_vit['vitamin-c_100g'] > 0.039]"
   ]
  },
  {
   "cell_type": "code",
   "execution_count": 46,
   "id": "f485ac8e",
   "metadata": {},
   "outputs": [
    {
     "data": {
      "text/plain": [
       "0.0450     6\n",
       "0.0400     2\n",
       "0.0420     1\n",
       "24.0000    1\n",
       "0.0500     1\n",
       "0.0448     1\n",
       "Name: vitamin-c_100g, dtype: int64"
      ]
     },
     "execution_count": 46,
     "metadata": {},
     "output_type": "execute_result"
    }
   ],
   "source": [
    "df_vit['vitamin-c_100g'].value_counts(ascending=False)"
   ]
  },
  {
   "cell_type": "markdown",
   "id": "cdbb8a01",
   "metadata": {},
   "source": [
    "<b>Echantillons de 5 jus d'orange possédant entre 0,0420 et 0,0450 grammes de vitamine C pour 100 gr</b>"
   ]
  },
  {
   "cell_type": "markdown",
   "id": "092431d7",
   "metadata": {},
   "source": [
    "- 100 % pur jus orange de Franprix\n",
    "- Premium 100% jus d'orange sanguine de Monoprix\t\n",
    "- Le Pur jus - Sans pulpe Jus d'orange de Joker\n",
    "- Pur jus de fruit pressé 100% orange de Innocent\n",
    "- Pur jus d'oranges sanguines pressées de Super U"
   ]
  },
  {
   "cell_type": "markdown",
   "id": "946e7db0",
   "metadata": {},
   "source": [
    "<img src=\"img/C.jpg\">"
   ]
  },
  {
   "cell_type": "markdown",
   "id": "e11b1c19",
   "metadata": {},
   "source": [
    "# Les jus d'orange avec nutriscore E"
   ]
  },
  {
   "cell_type": "code",
   "execution_count": 47,
   "id": "de9f2484",
   "metadata": {},
   "outputs": [],
   "source": [
    "df_E = df"
   ]
  },
  {
   "cell_type": "code",
   "execution_count": 48,
   "id": "7170583d",
   "metadata": {},
   "outputs": [],
   "source": [
    "# delete product with nutriscore = 0\n",
    "df_E = df[df.nutriscore_grade != 0]"
   ]
  },
  {
   "cell_type": "code",
   "execution_count": 49,
   "id": "62f017bc",
   "metadata": {},
   "outputs": [],
   "source": [
    "# convert sugars_100g to string values\n",
    "df_E['nutriscore_grade']=df_E['nutriscore_grade'].astype(str)"
   ]
  },
  {
   "cell_type": "code",
   "execution_count": 50,
   "id": "a746f31a",
   "metadata": {},
   "outputs": [],
   "source": [
    "# isolate all rows with nutriscore_grade = e\n",
    "df_E = df_E[df_E[\"nutriscore_grade\"].str.contains(\"e\")]"
   ]
  },
  {
   "cell_type": "markdown",
   "id": "c8d6042a",
   "metadata": {},
   "source": [
    "<b>Les jus d'orange qui possèdent le nutriscore E sont majoritairement fabriqués à partir de jus concentré</b>"
   ]
  },
  {
   "cell_type": "markdown",
   "id": "e08f358a",
   "metadata": {},
   "source": [
    "- Nectar d'orange de Casino\n",
    "- Jus d'orange de Kas\n",
    "- Jus d'orange de Fruima\n",
    "- Nectar d'orange de Tous les jours"
   ]
  },
  {
   "cell_type": "markdown",
   "id": "a7ec1d19",
   "metadata": {},
   "source": [
    "<img src=\"img/E.jpg\">"
   ]
  }
 ],
 "metadata": {
  "kernelspec": {
   "display_name": "Python 3",
   "language": "python",
   "name": "python3"
  },
  "language_info": {
   "codemirror_mode": {
    "name": "ipython",
    "version": 3
   },
   "file_extension": ".py",
   "mimetype": "text/x-python",
   "name": "python",
   "nbconvert_exporter": "python",
   "pygments_lexer": "ipython3",
   "version": "3.8.8"
  }
 },
 "nbformat": 4,
 "nbformat_minor": 5
}
