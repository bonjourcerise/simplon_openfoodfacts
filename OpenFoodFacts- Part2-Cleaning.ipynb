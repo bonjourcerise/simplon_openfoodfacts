{
 "cells": [
  {
   "cell_type": "markdown",
   "id": "44c69797",
   "metadata": {},
   "source": [
    "# 🍊 Orange is the new black"
   ]
  },
  {
   "cell_type": "markdown",
   "id": "ced7dd94",
   "metadata": {},
   "source": [
    "Import des librairies"
   ]
  },
  {
   "cell_type": "code",
   "execution_count": 64,
   "id": "8452fb0c",
   "metadata": {},
   "outputs": [],
   "source": [
    "import numpy as np\n",
    "import pandas as pd\n",
    "import matplotlib.pyplot as plt\n",
    "import seaborn as sns\n",
    "import warnings\n",
    "warnings.filterwarnings(\"ignore\")\n",
    "from sqlalchemy import create_engine"
   ]
  },
  {
   "cell_type": "markdown",
   "id": "78402bfb",
   "metadata": {},
   "source": [
    "# Import data from SQL database "
   ]
  },
  {
   "cell_type": "code",
   "execution_count": 65,
   "id": "bb983621",
   "metadata": {},
   "outputs": [],
   "source": [
    "# database connection\n",
    "hostname=\"127.0.0.1\"\n",
    "dbname=\"openfood\"\n",
    "uname=\"root\"\n",
    "pwd=\"pixel\"\n",
    "\n",
    "# create SQLAlchemy engine to connect to MySQL Database\n",
    "engine = create_engine(\"mysql+pymysql://{user}:{pw}@{host}/{db}\".format(host=hostname, db=dbname, user=uname, pw=pwd))"
   ]
  },
  {
   "cell_type": "code",
   "execution_count": 66,
   "id": "01b9892f",
   "metadata": {},
   "outputs": [],
   "source": [
    "# import SQL table into dataframe\n",
    "df = pd.read_sql_table('products', engine)"
   ]
  },
  {
   "cell_type": "code",
   "execution_count": 67,
   "id": "1c18cbe5",
   "metadata": {},
   "outputs": [
    {
     "data": {
      "text/plain": [
       "(760588, 21)"
      ]
     },
     "execution_count": 67,
     "metadata": {},
     "output_type": "execute_result"
    }
   ],
   "source": [
    "df.shape"
   ]
  },
  {
   "cell_type": "code",
   "execution_count": 68,
   "id": "c48256fa",
   "metadata": {
    "scrolled": true
   },
   "outputs": [
    {
     "data": {
      "text/html": [
       "<div>\n",
       "<style scoped>\n",
       "    .dataframe tbody tr th:only-of-type {\n",
       "        vertical-align: middle;\n",
       "    }\n",
       "\n",
       "    .dataframe tbody tr th {\n",
       "        vertical-align: top;\n",
       "    }\n",
       "\n",
       "    .dataframe thead th {\n",
       "        text-align: right;\n",
       "    }\n",
       "</style>\n",
       "<table border=\"1\" class=\"dataframe\">\n",
       "  <thead>\n",
       "    <tr style=\"text-align: right;\">\n",
       "      <th></th>\n",
       "      <th>product_name</th>\n",
       "      <th>quantity</th>\n",
       "      <th>nutrition-score-fr_100g</th>\n",
       "      <th>nutriscore_score</th>\n",
       "      <th>nutriscore_grade</th>\n",
       "      <th>brands</th>\n",
       "      <th>origins</th>\n",
       "      <th>ingredients_text</th>\n",
       "      <th>countries</th>\n",
       "      <th>labels</th>\n",
       "      <th>...</th>\n",
       "      <th>fat_100g</th>\n",
       "      <th>saturated-fat_100g</th>\n",
       "      <th>carbohydrates_100g</th>\n",
       "      <th>sugars_100g</th>\n",
       "      <th>sodium_100g</th>\n",
       "      <th>additives</th>\n",
       "      <th>vitamin-c_100g</th>\n",
       "      <th>nova_group</th>\n",
       "      <th>pnns_groups_1</th>\n",
       "      <th>pnns_groups_2</th>\n",
       "    </tr>\n",
       "  </thead>\n",
       "  <tbody>\n",
       "    <tr>\n",
       "      <th>0</th>\n",
       "      <td>jeunes pousses</td>\n",
       "      <td>None</td>\n",
       "      <td>NaN</td>\n",
       "      <td>NaN</td>\n",
       "      <td>None</td>\n",
       "      <td>endives</td>\n",
       "      <td>None</td>\n",
       "      <td>None</td>\n",
       "      <td>France</td>\n",
       "      <td>None</td>\n",
       "      <td>...</td>\n",
       "      <td>NaN</td>\n",
       "      <td>NaN</td>\n",
       "      <td>NaN</td>\n",
       "      <td>NaN</td>\n",
       "      <td>NaN</td>\n",
       "      <td>None</td>\n",
       "      <td>NaN</td>\n",
       "      <td>NaN</td>\n",
       "      <td>unknown</td>\n",
       "      <td>unknown</td>\n",
       "    </tr>\n",
       "    <tr>\n",
       "      <th>1</th>\n",
       "      <td>Vitória crackers</td>\n",
       "      <td>None</td>\n",
       "      <td>NaN</td>\n",
       "      <td>NaN</td>\n",
       "      <td>None</td>\n",
       "      <td>None</td>\n",
       "      <td>None</td>\n",
       "      <td>None</td>\n",
       "      <td>France</td>\n",
       "      <td>None</td>\n",
       "      <td>...</td>\n",
       "      <td>7.0</td>\n",
       "      <td>3.08</td>\n",
       "      <td>70.1</td>\n",
       "      <td>15.0</td>\n",
       "      <td>0.56</td>\n",
       "      <td>None</td>\n",
       "      <td>NaN</td>\n",
       "      <td>NaN</td>\n",
       "      <td>unknown</td>\n",
       "      <td>unknown</td>\n",
       "    </tr>\n",
       "    <tr>\n",
       "      <th>2</th>\n",
       "      <td>Cacao</td>\n",
       "      <td>130 g</td>\n",
       "      <td>NaN</td>\n",
       "      <td>NaN</td>\n",
       "      <td>None</td>\n",
       "      <td>None</td>\n",
       "      <td>None</td>\n",
       "      <td>None</td>\n",
       "      <td>France</td>\n",
       "      <td>None</td>\n",
       "      <td>...</td>\n",
       "      <td>NaN</td>\n",
       "      <td>NaN</td>\n",
       "      <td>NaN</td>\n",
       "      <td>NaN</td>\n",
       "      <td>NaN</td>\n",
       "      <td>None</td>\n",
       "      <td>NaN</td>\n",
       "      <td>NaN</td>\n",
       "      <td>unknown</td>\n",
       "      <td>unknown</td>\n",
       "    </tr>\n",
       "    <tr>\n",
       "      <th>3</th>\n",
       "      <td>moutarde au moût de raisin</td>\n",
       "      <td>100g</td>\n",
       "      <td>18.0</td>\n",
       "      <td>18.0</td>\n",
       "      <td>d</td>\n",
       "      <td>courte paille</td>\n",
       "      <td>None</td>\n",
       "      <td>eau graines de téguments de moutarde vinaigre ...</td>\n",
       "      <td>France</td>\n",
       "      <td>Delois france</td>\n",
       "      <td>...</td>\n",
       "      <td>8.2</td>\n",
       "      <td>2.20</td>\n",
       "      <td>29.0</td>\n",
       "      <td>22.0</td>\n",
       "      <td>1.84</td>\n",
       "      <td>None</td>\n",
       "      <td>NaN</td>\n",
       "      <td>NaN</td>\n",
       "      <td>Fat and sauces</td>\n",
       "      <td>Dressings and sauces</td>\n",
       "    </tr>\n",
       "    <tr>\n",
       "      <th>4</th>\n",
       "      <td>Sfiudwx</td>\n",
       "      <td>dgesc</td>\n",
       "      <td>NaN</td>\n",
       "      <td>NaN</td>\n",
       "      <td>None</td>\n",
       "      <td>Watt</td>\n",
       "      <td>None</td>\n",
       "      <td>None</td>\n",
       "      <td>France</td>\n",
       "      <td>None</td>\n",
       "      <td>...</td>\n",
       "      <td>NaN</td>\n",
       "      <td>NaN</td>\n",
       "      <td>NaN</td>\n",
       "      <td>NaN</td>\n",
       "      <td>NaN</td>\n",
       "      <td>None</td>\n",
       "      <td>NaN</td>\n",
       "      <td>NaN</td>\n",
       "      <td>unknown</td>\n",
       "      <td>unknown</td>\n",
       "    </tr>\n",
       "  </tbody>\n",
       "</table>\n",
       "<p>5 rows × 21 columns</p>\n",
       "</div>"
      ],
      "text/plain": [
       "                   product_name quantity  nutrition-score-fr_100g  \\\n",
       "0                jeunes pousses     None                      NaN   \n",
       "1              Vitória crackers     None                      NaN   \n",
       "2                         Cacao    130 g                      NaN   \n",
       "3   moutarde au moût de raisin      100g                     18.0   \n",
       "4                       Sfiudwx    dgesc                      NaN   \n",
       "\n",
       "   nutriscore_score nutriscore_grade         brands origins  \\\n",
       "0               NaN             None        endives    None   \n",
       "1               NaN             None           None    None   \n",
       "2               NaN             None           None    None   \n",
       "3              18.0                d  courte paille    None   \n",
       "4               NaN             None           Watt    None   \n",
       "\n",
       "                                    ingredients_text countries         labels  \\\n",
       "0                                               None    France           None   \n",
       "1                                               None    France           None   \n",
       "2                                               None    France           None   \n",
       "3  eau graines de téguments de moutarde vinaigre ...    France  Delois france   \n",
       "4                                               None    France           None   \n",
       "\n",
       "   ...  fat_100g  saturated-fat_100g  carbohydrates_100g  sugars_100g  \\\n",
       "0  ...       NaN                 NaN                 NaN          NaN   \n",
       "1  ...       7.0                3.08                70.1         15.0   \n",
       "2  ...       NaN                 NaN                 NaN          NaN   \n",
       "3  ...       8.2                2.20                29.0         22.0   \n",
       "4  ...       NaN                 NaN                 NaN          NaN   \n",
       "\n",
       "   sodium_100g  additives vitamin-c_100g  nova_group   pnns_groups_1  \\\n",
       "0          NaN       None            NaN         NaN         unknown   \n",
       "1         0.56       None            NaN         NaN         unknown   \n",
       "2          NaN       None            NaN         NaN         unknown   \n",
       "3         1.84       None            NaN         NaN  Fat and sauces   \n",
       "4          NaN       None            NaN         NaN         unknown   \n",
       "\n",
       "          pnns_groups_2  \n",
       "0               unknown  \n",
       "1               unknown  \n",
       "2               unknown  \n",
       "3  Dressings and sauces  \n",
       "4               unknown  \n",
       "\n",
       "[5 rows x 21 columns]"
      ]
     },
     "execution_count": 68,
     "metadata": {},
     "output_type": "execute_result"
    }
   ],
   "source": [
    "df.head()"
   ]
  },
  {
   "cell_type": "markdown",
   "id": "0c868284",
   "metadata": {},
   "source": [
    "# 🧹 Cleaning notebook"
   ]
  },
  {
   "cell_type": "markdown",
   "id": "0a10c257",
   "metadata": {},
   "source": [
    "Nous avons commencé le nettoyage dans le notebook SQL :\n",
    "- Nous avons conservé uniquement les colonnes contenant au moins 60% ou plus de données valides pour notre cible : le jus d'orange<br>\n",
    "- Nous avons supprimé manuellement quelques colonnes jugées inutiles pour notre analyse (exemple : url de l'image)\n",
    "- Nous avons converti et gardé uniquement les valeurs dont les données 'countries' sont la France\n",
    "\n",
    "Dans ce notebook  :\n",
    "- Nous remplaçons les valeurs NaN par des 0\n",
    "- Nous isolons notre cible, le jus d'orange dans 'product_name'\n",
    "\n",
    "Nous avons désormais ainsi un total de 516 lignes et 21 colonnes presque exploitables pour notre analyse."
   ]
  },
  {
   "cell_type": "code",
   "execution_count": 70,
   "id": "c642b0fe",
   "metadata": {},
   "outputs": [
    {
     "data": {
      "text/plain": [
       "Text(0.5, 1.0, '% of NaN nans per column')"
      ]
     },
     "execution_count": 70,
     "metadata": {},
     "output_type": "execute_result"
    },
    {
     "data": {
      "image/png": "[encoded data removed]",
      "text/plain": [
       "<Figure size 720x360 with 1 Axes>"
      ]
     },
     "metadata": {
      "needs_background": "light"
     },
     "output_type": "display_data"
    }
   ],
   "source": [
    "# view the % of NaN\n",
    "\n",
    "nan_percent = df.isnull().sum().sort_values(ascending=False) / df.shape[0] * 100\n",
    "\n",
    "plt.figure(figsize=(10,5))\n",
    "sns.distplot(nan_percent, bins=100, kde=False)\n",
    "plt.xlabel(\"% NaN\")\n",
    "plt.ylabel(\"Number of columns\")\n",
    "plt.title(\"% of NaN nans per column\")"
   ]
  },
  {
   "cell_type": "code",
   "execution_count": 71,
   "id": "1fb52ea2",
   "metadata": {},
   "outputs": [],
   "source": [
    "# replace NaN by 0 on entire dataframe\n",
    "clean_df = df.fillna(0)"
   ]
  },
  {
   "cell_type": "code",
   "execution_count": 72,
   "id": "cabb20d9",
   "metadata": {},
   "outputs": [],
   "source": [
    "# isolate all rows with \"product name is \"jus\" & \"orange\"\n",
    "clean_df = df[(df['product_name'].str.contains('jus', na=False)) & (df['product_name'].str.contains('orange', na=False))]"
   ]
  },
  {
   "cell_type": "code",
   "execution_count": 73,
   "id": "9b61bdb6",
   "metadata": {},
   "outputs": [
    {
     "data": {
      "text/plain": [
       "(516, 21)"
      ]
     },
     "execution_count": 73,
     "metadata": {},
     "output_type": "execute_result"
    }
   ],
   "source": [
    "# shape of dataframe\n",
    "clean_df.shape"
   ]
  },
  {
   "cell_type": "code",
   "execution_count": 74,
   "id": "83a4283e",
   "metadata": {},
   "outputs": [],
   "source": [
    "# export CSV\n",
    "clean_df.to_csv('orangeisthenewblack.csv', index=False)"
   ]
  }
 ],
 "metadata": {
  "kernelspec": {
   "display_name": "Python 3",
   "language": "python",
   "name": "python3"
  },
  "language_info": {
   "codemirror_mode": {
    "name": "ipython",
    "version": 3
   },
   "file_extension": ".py",
   "mimetype": "text/x-python",
   "name": "python",
   "nbconvert_exporter": "python",
   "pygments_lexer": "ipython3",
   "version": "3.8.8"
  }
 },
 "nbformat": 4,
 "nbformat_minor": 5
}
